{
 "cells": [
  {
   "cell_type": "markdown",
   "metadata": {},
   "source": [
    "# Example Datasets\n",
    "\n",
    "This is a notebook full of simple examples of common datasets one may want to download from Mortar.\n",
    "\n",
    "- [Meter Data](#meter)\n",
    "- [Temperature Data](#Temperature-Data)\n",
    "    - [from Thermostats](#Thermostat-Temperature-Data)\n",
    "    - [from VAVs](#VAV-Temperature-Data)\n",
    "\n",
    "To use these examples, create a free Mortar account at [https://mortardata.org/](https://mortardata.org/) and insert your credentials below. You may also want to check out the [interactive tutorial](https://tutorial.mortardata.org/) to get a feel for the Mortar API."
   ]
  },
  {
   "cell_type": "code",
   "execution_count": null,
   "metadata": {},
   "outputs": [],
   "source": [
    "import pymortar\n",
    "import pandas as pd\n",
    "\n",
    "# removes extraneous output\n",
    "import logging\n",
    "logging.getLogger().setLevel(\"CRITICAL\")\n",
    "logging.getLogger('matplotlib').setLevel(\"CRITICAL\")\n",
    "\n",
    "client = pymortar.Client({\n",
    "    'username': \"CHANGE_THIS\",  # <------------- CHANGE THIS\n",
    "    'password': \"CHANGE_THIS\",  # <------------- CHANGE THIS\n",
    "})\n",
    "print(\"Success! Got client\")"
   ]
  },
  {
   "cell_type": "markdown",
   "metadata": {},
   "source": [
    "## Meter Data\n",
    "\n",
    "This query fetches the building-level electric meters for all available sites in the Mortar testbed, downsampled to a 15-min interval. The query `meter_query` does not pull in any additional context, and the View and DataFrame definitions are minimal."
   ]
  },
  {
   "cell_type": "code",
   "execution_count": null,
   "metadata": {},
   "outputs": [],
   "source": [
    "meter_query = \"\"\"SELECT ?meter WHERE {\n",
    "    ?meter rdf:type/rdfs:subClassOf* brick:Building_Electric_Meter\n",
    "};\"\"\"\n",
    "\n",
    "meter_view = pymortar.View(\n",
    "    name=\"meters\",\n",
    "    definition=meter_query,\n",
    ")\n",
    "\n",
    "meter_data = pymortar.DataFrame(\n",
    "    name=\"meters\",\n",
    "    aggregation=pymortar.MEAN,\n",
    "    window=\"15m\",\n",
    "    timeseries=[\n",
    "        pymortar.Timeseries(\n",
    "            view=\"meters\",\n",
    "            dataVars=[\"?meter\"],\n",
    "        )\n",
    "    ]\n",
    ")\n",
    "\n",
    "time_range = pymortar.TimeParams(\n",
    "    start=\"2018-01-01T00:00:00Z\",\n",
    "    end=\"2019-01-01T00:00:00Z\",\n",
    ")"
   ]
  },
  {
   "cell_type": "markdown",
   "metadata": {},
   "source": [
    "This code accesses the Mortar API to identify the sites that have meters, and then downloads a year of data for those sites"
   ]
  },
  {
   "cell_type": "code",
   "execution_count": null,
   "metadata": {},
   "outputs": [],
   "source": [
    "# find sites that have meters\n",
    "qualified_sites = client.qualify([meter_query])\n",
    "print(f'Downloading data for {len(qualified_sites.sites)} sites')\n",
    "\n",
    "# define the request\n",
    "request = pymortar.FetchRequest(\n",
    "    sites = qualified_sites.sites,\n",
    "    views = [meter_view],\n",
    "    dataFrames = [meter_data],\n",
    "    time = time_range,\n",
    ")\n",
    "\n",
    "# download the data\n",
    "meter_resp = client.fetch(request)\n",
    "print(f'Downloaded data: {meter_resp}')"
   ]
  },
  {
   "cell_type": "markdown",
   "metadata": {},
   "source": [
    "### Downloaded Metadata"
   ]
  },
  {
   "cell_type": "code",
   "execution_count": null,
   "metadata": {},
   "outputs": [],
   "source": [
    "meter_resp.view('meters').head()"
   ]
  },
  {
   "cell_type": "markdown",
   "metadata": {},
   "source": [
    "### Downloaded Data"
   ]
  },
  {
   "cell_type": "code",
   "execution_count": null,
   "metadata": {},
   "outputs": [],
   "source": [
    "meter_resp['meters'].head()"
   ]
  },
  {
   "cell_type": "markdown",
   "metadata": {},
   "source": [
    "# Temperature Data\n",
    "\n",
    "These views and dataframes identify and download temperature data for a set of sites. Here we demonstrate how to get temperature sensors associated with Thermostats, VAV boxes, and finally how to get *all* temperature sensor data.\n",
    "\n",
    "All data is downloaded for the span of a year downsampled to a 15-min interval."
   ]
  },
  {
   "cell_type": "markdown",
   "metadata": {},
   "source": [
    "## Thermostat Temperature Data"
   ]
  },
  {
   "cell_type": "code",
   "execution_count": null,
   "metadata": {},
   "outputs": [],
   "source": [
    "tstat_temp_query = \"\"\"SELECT ?temp_sensor ?tstat ?zone WHERE {\n",
    "    ?tstat  rdf:type  brick:Thermostat .\n",
    "    ?tstat  bf:hasPoint  ?temp_sensor .\n",
    "    ?temp_sensor rdf:type/rdfs:subClassOf* brick:Temperature_Sensor .\n",
    "    ?tstat  bf:controls/bf:feeds+ ?zone .\n",
    "    ?zone  rdf:type  brick:HVAC_Zone \n",
    "};\"\"\"\n",
    "\n",
    "tstat_temp_view = pymortar.View(\n",
    "    name = \"tstat_temp\",\n",
    "    definition = tstat_temp_query,\n",
    ")\n",
    "\n",
    "tstat_temp_data = pymortar.DataFrame(\n",
    "    name = \"tstat_temp\",\n",
    "    aggregation = pymortar.MEAN,\n",
    "    window = \"15m\",\n",
    "    timeseries = [\n",
    "        pymortar.Timeseries(\n",
    "            view = \"tstat_temp\",\n",
    "            dataVars = [\"?temp_sensor\"],\n",
    "        )\n",
    "    ]\n",
    ")\n",
    "\n",
    "time_range = pymortar.TimeParams(\n",
    "    start=\"2018-01-01T00:00:00Z\",\n",
    "    end=\"2019-01-01T00:00:00Z\",\n",
    ")"
   ]
  },
  {
   "cell_type": "code",
   "execution_count": null,
   "metadata": {},
   "outputs": [],
   "source": [
    "# find sites that have Thermostats with Temperature Sensors\n",
    "qualified_sites = client.qualify([tstat_temp_query])\n",
    "print(f'Downloading data for {len(qualified_sites.sites)} sites')\n",
    "\n",
    "# define the request\n",
    "request = pymortar.FetchRequest(\n",
    "    sites = qualified_sites.sites,\n",
    "    views = [tstat_temp_view],\n",
    "    dataFrames = [tstat_temp_data],\n",
    "    time = time_range,\n",
    ")\n",
    "\n",
    "# download the data\n",
    "tstat_temp_resp = client.fetch(request)\n",
    "print(f'Downloaded data: {tstat_temp_resp}')"
   ]
  },
  {
   "cell_type": "markdown",
   "metadata": {},
   "source": [
    "### Downloaded Metadata"
   ]
  },
  {
   "cell_type": "code",
   "execution_count": null,
   "metadata": {},
   "outputs": [],
   "source": [
    "tstat_temp_resp.view('tstat_temp').head()"
   ]
  },
  {
   "cell_type": "markdown",
   "metadata": {},
   "source": [
    "### Downloaded Data"
   ]
  },
  {
   "cell_type": "code",
   "execution_count": null,
   "metadata": {},
   "outputs": [],
   "source": [
    "tstat_temp_resp['tstat_temp'].head()"
   ]
  },
  {
   "cell_type": "markdown",
   "metadata": {},
   "source": [
    "## VAV Temperature Data\n",
    "\n",
    "You'll notice that the queries and general approach here are very similar to the Thermostat setting above. We have to change the type of the equipment in the base query in order to consider VAVs instead of Thermostats, and the relationship between the VAV and a Zone is different than the relationship between a Thermostat and a Zone.\n",
    "\n",
    "The queries here pull in some additional context: for each temperature sensor, we get the VAV it is associated with, ~~the upstream AHU~~ and the name of the zone that the VAV is conditioning.\n",
    "\n",
    "**Note:** this is potentially a lot of data so we are pre-emptively downsampling to a 1-hour interval. If you are using this data for any actual analysis you will probably want to reduce that to at least 15-minutes."
   ]
  },
  {
   "cell_type": "code",
   "execution_count": null,
   "metadata": {},
   "outputs": [],
   "source": [
    "vav_temp_query = \"\"\"SELECT ?temp_sensor ?vav ?zone WHERE {\n",
    "    ?vav  rdf:type/rdfs:subClassOf*  brick:VAV .\n",
    "    ?vav  bf:hasPoint  ?temp_sensor .\n",
    "    ?temp_sensor rdf:type/rdfs:subClassOf* brick:Temperature_Sensor .\n",
    "    ?vav  bf:feeds+ ?zone .\n",
    "    ?zone  rdf:type  brick:HVAC_Zone \n",
    "};\"\"\"\n",
    "\n",
    "vav_temp_view = pymortar.View(\n",
    "    name = \"vav_temp\",\n",
    "    definition = vav_temp_query,\n",
    ")\n",
    "\n",
    "vav_temp_data = pymortar.DataFrame(\n",
    "    name = \"vav_temp\",\n",
    "    aggregation = pymortar.MEAN,\n",
    "    window = \"1h\",\n",
    "    timeseries = [\n",
    "        pymortar.Timeseries(\n",
    "            view = \"vav_temp\",\n",
    "            dataVars = [\"?temp_sensor\"],\n",
    "        )\n",
    "    ]\n",
    ")\n",
    "\n",
    "time_range = pymortar.TimeParams(\n",
    "    start=\"2018-01-01T00:00:00Z\",\n",
    "    end=\"2019-01-01T00:00:00Z\",\n",
    ")"
   ]
  },
  {
   "cell_type": "code",
   "execution_count": null,
   "metadata": {},
   "outputs": [],
   "source": [
    "# find sites that have VAVs with Temperature Sensors\n",
    "qualified_sites = client.qualify([vav_temp_query])\n",
    "print(f'Downloading data for {len(qualified_sites.sites)} sites')\n",
    "\n",
    "# define the request\n",
    "request = pymortar.FetchRequest(\n",
    "    sites = qualified_sites.sites,\n",
    "    views = [vav_temp_view],\n",
    "    dataFrames = [vav_temp_data],\n",
    "    time = time_range,\n",
    ")\n",
    "\n",
    "# download the data\n",
    "vav_temp_resp = client.fetch(request)\n",
    "print(f'Downloaded data: {vav_temp_resp}')"
   ]
  },
  {
   "cell_type": "markdown",
   "metadata": {},
   "source": [
    "### Downloaded Metadata"
   ]
  },
  {
   "cell_type": "code",
   "execution_count": null,
   "metadata": {},
   "outputs": [],
   "source": [
    "vav_temp_resp.view('vav_temp').head()"
   ]
  },
  {
   "cell_type": "markdown",
   "metadata": {},
   "source": [
    "### Downloaded Data"
   ]
  },
  {
   "cell_type": "code",
   "execution_count": null,
   "metadata": {},
   "outputs": [],
   "source": [
    "vav_temp_resp['vav_temp'].head()"
   ]
  },
  {
   "cell_type": "markdown",
   "metadata": {},
   "source": []
  },
  {
   "cell_type": "code",
   "execution_count": null,
   "metadata": {},
   "outputs": [],
   "source": []
  }
 ],
 "metadata": {
  "kernelspec": {
   "display_name": "Python 3",
   "language": "python",
   "name": "python3"
  },
  "language_info": {
   "codemirror_mode": {
    "name": "ipython",
    "version": 3
   },
   "file_extension": ".py",
   "mimetype": "text/x-python",
   "name": "python",
   "nbconvert_exporter": "python",
   "pygments_lexer": "ipython3",
   "version": "3.6.6"
  }
 },
 "nbformat": 4,
 "nbformat_minor": 2
}

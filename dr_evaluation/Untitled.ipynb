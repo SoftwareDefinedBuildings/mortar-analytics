{
 "cells": [
  {
   "cell_type": "code",
   "execution_count": 1,
   "metadata": {},
   "outputs": [],
   "source": [
    "import get_data as gd\n",
    "from utils import get_window_of_day, get_closest_station, get_month_window\n",
    "import pymortar\n",
    "import datetime\n",
    "import pandas as pd\n",
    "import json"
   ]
  },
  {
   "cell_type": "code",
   "execution_count": 2,
   "metadata": {},
   "outputs": [],
   "source": [
    "dates = get_window_of_day('2018-07-20')\n",
    "client = pymortar.Client()"
   ]
  },
  {
   "cell_type": "code",
   "execution_count": 4,
   "metadata": {},
   "outputs": [
    {
     "data": {
      "text/plain": [
       "('2018-07-20T00:00:00-07:00', '2018-07-21T00:00:00-07:00')"
      ]
     },
     "execution_count": 4,
     "metadata": {},
     "output_type": "execute_result"
    }
   ],
   "source": [
    "dates"
   ]
  },
  {
   "cell_type": "code",
   "execution_count": 5,
   "metadata": {},
   "outputs": [],
   "source": [
    "start = \"2016-01-01T00:00:00Z\"\n",
    "end = \"2018-12-21T00:00:00Z\"\n",
    "site = \"ciee\"\n",
    "data = gd.get_df(site, start, end, client)"
   ]
  },
  {
   "cell_type": "code",
   "execution_count": 6,
   "metadata": {},
   "outputs": [
    {
     "data": {
      "text/html": [
       "<div>\n",
       "<style scoped>\n",
       "    .dataframe tbody tr th:only-of-type {\n",
       "        vertical-align: middle;\n",
       "    }\n",
       "\n",
       "    .dataframe tbody tr th {\n",
       "        vertical-align: top;\n",
       "    }\n",
       "\n",
       "    .dataframe thead th {\n",
       "        text-align: right;\n",
       "    }\n",
       "</style>\n",
       "<table border=\"1\" class=\"dataframe\">\n",
       "  <thead>\n",
       "    <tr style=\"text-align: right;\">\n",
       "      <th></th>\n",
       "      <th>power</th>\n",
       "      <th>weather</th>\n",
       "    </tr>\n",
       "  </thead>\n",
       "  <tbody>\n",
       "    <tr>\n",
       "      <th>2015-12-31 16:00:00-08:00</th>\n",
       "      <td>3248.0</td>\n",
       "      <td>48.2</td>\n",
       "    </tr>\n",
       "    <tr>\n",
       "      <th>2015-12-31 16:15:00-08:00</th>\n",
       "      <td>2592.0</td>\n",
       "      <td>NaN</td>\n",
       "    </tr>\n",
       "    <tr>\n",
       "      <th>2015-12-31 16:30:00-08:00</th>\n",
       "      <td>2416.0</td>\n",
       "      <td>NaN</td>\n",
       "    </tr>\n",
       "    <tr>\n",
       "      <th>2015-12-31 16:45:00-08:00</th>\n",
       "      <td>2288.0</td>\n",
       "      <td>NaN</td>\n",
       "    </tr>\n",
       "    <tr>\n",
       "      <th>2015-12-31 17:00:00-08:00</th>\n",
       "      <td>2272.0</td>\n",
       "      <td>NaN</td>\n",
       "    </tr>\n",
       "  </tbody>\n",
       "</table>\n",
       "</div>"
      ],
      "text/plain": [
       "                            power  weather\n",
       "2015-12-31 16:00:00-08:00  3248.0     48.2\n",
       "2015-12-31 16:15:00-08:00  2592.0      NaN\n",
       "2015-12-31 16:30:00-08:00  2416.0      NaN\n",
       "2015-12-31 16:45:00-08:00  2288.0      NaN\n",
       "2015-12-31 17:00:00-08:00  2272.0      NaN"
      ]
     },
     "execution_count": 6,
     "metadata": {},
     "output_type": "execute_result"
    }
   ],
   "source": [
    "data.head()"
   ]
  },
  {
   "cell_type": "code",
   "execution_count": 7,
   "metadata": {},
   "outputs": [
    {
     "name": "stderr",
     "output_type": "stream",
     "text": [
      "DEBUG:matplotlib:CACHEDIR=/Users/jleyden/.matplotlib\n",
      "DEBUG:matplotlib.font_manager:Using fontManager instance from /Users/jleyden/.matplotlib/fontlist-v300.json\n",
      "DEBUG:matplotlib.pyplot:Loaded backend module://ipykernel.pylab.backend_inline version unknown.\n",
      "DEBUG:matplotlib.pyplot:Loaded backend module://ipykernel.pylab.backend_inline version unknown.\n"
     ]
    }
   ],
   "source": [
    "import static_models as sm"
   ]
  },
  {
   "cell_type": "code",
   "execution_count": 8,
   "metadata": {},
   "outputs": [],
   "source": [
    "pdp_days =  [\n",
    "        \"2018-06-12\",\n",
    "        \"2018-06-13\",\n",
    "        \"2018-07-10\",\n",
    "        \"2018-07-16\",\n",
    "        \"2018-07-17\",\n",
    "        \"2018-07-19\",\n",
    "        \"2018-07-24\",\n",
    "        \"2018-07-25\",\n",
    "        \"2018-07-27\"\n",
    "    ]"
   ]
  },
  {
   "cell_type": "code",
   "execution_count": 13,
   "metadata": {},
   "outputs": [],
   "source": [
    "import datetime\n",
    "pdp_days = pd.to_datetime(pdp_days).date"
   ]
  },
  {
   "cell_type": "code",
   "execution_count": 14,
   "metadata": {},
   "outputs": [
    {
     "data": {
      "text/plain": [
       "(array([[2080., 1984., 1984., 2096., 2048., 1968., 2032., 2016., 2032.,\n",
       "         1968., 2000., 1952., 1952., 1936., 1920., 1936., 1984., 1936.,\n",
       "         1904., 1952., 1968., 1936., 2016., 1952., 2000., 1968., 2016.,\n",
       "         1904., 1888., 2048., 2096., 2432., 2608., 2864., 3008., 3040.,\n",
       "         3232., 3648., 3600., 3600., 3760., 4048., 4096., 4128., 4256.,\n",
       "         4288., 4240., 4192., 4400., 4544., 4016., 4496., 4176., 4496.,\n",
       "         4096., 4640., 4288., 4656., 4144., 4896., 4288., 5296., 4224.,\n",
       "         4144., 4960., 4672., 5152., 5104., 3968., 4384., 4704., 4176.,\n",
       "         3536., 4080., 3152., 3312., 2848., 3088., 3104., 3040., 2736.,\n",
       "         3136., 3440., 3472., 2944., 2704., 2576., 2768., 2800., 2704.,\n",
       "         2720., 2528., 2944., 2816., 2592., 2416.]]),\n",
       " array([1760., 1920., 1760., 1760., 1760., 1920., 1920., 1920., 1920.,\n",
       "        1760., 2080., 2400., 2240., 2400., 2080., 1920., 1760., 1760.,\n",
       "        1760., 1920., 1760., 1760., 2400., 2400., 2400., 2400., 2400.,\n",
       "        2400., 1760., 1760., 1760., 1600., 1760., 1600., 1760., 2720.,\n",
       "        3200., 3360., 3040., 3520., 3040., 3520., 3520., 3520., 3520.,\n",
       "        3680., 3680., 3680., 4320., 4160., 3680., 3680., 3360., 4160.,\n",
       "        4160., 4160., 4000., 4160., 3680., 3520., 3680., 3840., 3680.,\n",
       "        4320., 3840., 3840., 3840., 3840., 3680., 3680., 3360., 3360.,\n",
       "        2880., 2400., 2240., 2240., 2080., 2080., 1760., 1760., 1760.,\n",
       "        1760., 1760., 1760., 1920., 3200., 2560., 2240., 2560., 2720.,\n",
       "        2080., 1920., 1920., 1760., 1760., 1760.]))"
      ]
     },
     "execution_count": 14,
     "metadata": {},
     "output_type": "execute_result"
    }
   ],
   "source": [
    "sm.power_model(pdp_days[-1], data, pdp_days, )"
   ]
  },
  {
   "cell_type": "code",
   "execution_count": 5,
   "metadata": {},
   "outputs": [
    {
     "name": "stderr",
     "output_type": "stream",
     "text": [
      "DEBUG:matplotlib:CACHEDIR=/Users/jleyden/.matplotlib\n",
      "DEBUG:matplotlib.font_manager:Using fontManager instance from /Users/jleyden/.matplotlib/fontlist-v300.json\n",
      "DEBUG:matplotlib.pyplot:Loaded backend module://ipykernel.pylab.backend_inline version unknown.\n",
      "DEBUG:matplotlib.pyplot:Loaded backend module://ipykernel.pylab.backend_inline version unknown.\n"
     ]
    }
   ],
   "source": [
    "from get_test_days import get_test_data"
   ]
  },
  {
   "cell_type": "code",
   "execution_count": 6,
   "metadata": {},
   "outputs": [],
   "source": []
  },
  {
   "cell_type": "code",
   "execution_count": 7,
   "metadata": {},
   "outputs": [
    {
     "data": {
      "text/plain": [
       "([datetime.date(2016, 7, 15),\n",
       "  datetime.date(2016, 6, 29),\n",
       "  datetime.date(2016, 7, 26),\n",
       "  datetime.date(2016, 7, 27),\n",
       "  datetime.date(2017, 7, 28),\n",
       "  datetime.date(2016, 7, 25)],\n",
       " [datetime.date(2017, 7, 17),\n",
       "  datetime.date(2016, 6, 28),\n",
       "  datetime.date(2018, 8, 1),\n",
       "  datetime.date(2016, 7, 28),\n",
       "  datetime.date(2016, 7, 29)])"
      ]
     },
     "execution_count": 7,
     "metadata": {},
     "output_type": "execute_result"
    }
   ],
   "source": [
    "get_test_data(\"avenal-animal-shelter\", pdp_days, \"2016-01-01T00:00:00-08:00\", \"2019-03-01T00:00:00-08:00\", client)"
   ]
  },
  {
   "cell_type": "markdown",
   "metadata": {},
   "source": [
    " **Existing**\n",
    " \n",
    " Piece-wise temperature: Temperature split into intervals. Given a temperature in degrees Fahrenheit $t$, let $f_j = \\min(t - C_j, C_{j+1} - C_{j})$, where $C = [0, 40, 50, 60, 70, 80, \\infty], j \\in [0, 5]$ (six features total)."
   ]
  },
  {
   "cell_type": "markdown",
   "metadata": {},
   "source": [
    "**Correct**\n",
    "\n",
    "Piece-wise temperature: Temperature split into intervals. Given a temperature in degrees Fahrenheit $t$, let $f_j = \\max(0, \\min(t - C_j, C_{j+1} - C_{j}))$, where $C = [0, 40, 50, 60, 70, 80, \\infty], j \\in [0, 5]$ (six features total)."
   ]
  },
  {
   "cell_type": "code",
   "execution_count": 3,
   "metadata": {},
   "outputs": [],
   "source": [
    "PDP=[datetime.date(2017, 6, 16),\n",
    " datetime.date(2017, 6, 19),\n",
    " datetime.date(2017, 6, 20),\n",
    " datetime.date(2017, 6, 22),\n",
    " datetime.date(2017, 6, 23),\n",
    " datetime.date(2017, 7, 7),\n",
    " datetime.date(2017, 7, 27),\n",
    " datetime.date(2017, 7, 31),\n",
    " datetime.date(2017, 8, 1),\n",
    " datetime.date(2017, 8, 2)]"
   ]
  },
  {
   "cell_type": "code",
   "execution_count": 9,
   "metadata": {},
   "outputs": [],
   "source": [
    "import static_models as sm\n",
    "from sklearn.linear_model import RidgeCV\n",
    "from sklearn.metrics import mean_squared_error\n",
    "import pandas as pd\n",
    "import numpy as np\n",
    "import pymortar\n",
    "import logging \n",
    "import os\n",
    "import json\n",
    "\n",
    "from get_test_days import get_test_data\n",
    "from feature_engineering import get_time_of_week, get_t_cutoff_values\n",
    "from utils import get_window_of_day, get_workdays, get_closest_station, mean_absolute_percentage_error\n",
    "from daily_data import get_daily_data\n",
    "import get_data as gd"
   ]
  },
  {
   "cell_type": "code",
   "execution_count": 10,
   "metadata": {},
   "outputs": [
    {
     "name": "stderr",
     "output_type": "stream",
     "text": [
      "/Users/jleyden/anaconda3/envs/mortar/lib/python3.6/site-packages/pandas/core/nanops.py:358: RuntimeWarning: divide by zero encountered in true_divide\n",
      "  the_mean = the_sum / count\n"
     ]
    }
   ],
   "source": [
    "start = \"2016-01-01T00:00:00Z\"\n",
    "end = \"2018-12-21T00:00:00Z\"\n",
    "site = \"ciee\"\n",
    "cli = pymortar.Client()\n",
    "\n",
    "interval = '15min'\n",
    "agg = 'RAW'\n",
    "alphas = [0.0001, .001, 0.01, 0.05, 0.1, 0.5, 1, 10]\n",
    "\n",
    "# Get weather\n",
    "weather = gd.get_weather(site, start, end, agg=agg, window=interval, cli=cli)\n",
    "weather.index = weather.index.tz_localize('UTC').tz_convert('US/Pacific')\n",
    "closest_station = get_closest_station(site)\n",
    "if closest_station is not None:\n",
    "    weather = pd.DataFrame(weather[closest_station])\n",
    "else:\n",
    "    weather = pd.DataFrame(weather.mean(axis=1))\n",
    "\n",
    "# Get power\n",
    "power = gd.get_power(site, start, end, agg=agg, window=interval, cli=cli) * 4\n",
    "power.index = power.index.tz_localize('UTC').tz_convert('US/Pacific')\n",
    "\n",
    "# Merge\n",
    "weather_mean = pd.DataFrame(weather.mean(axis=1))\n",
    "power_sum = pd.DataFrame(power.sum(axis=1))\n",
    "data = power_sum.merge(weather_mean, left_index=True, right_index=True)\n",
    "data.columns = ['power', 'weather']"
   ]
  },
  {
   "cell_type": "code",
   "execution_count": 13,
   "metadata": {},
   "outputs": [
    {
     "data": {
      "text/plain": [
       "(array([[ 4368.,  4320.,  4032.,  4224.,  3288.,  3504.,  3384.,  3864.,\n",
       "          3144.,  3336.,  3240.,  3024.,  3072.,  2736.,  3120.,  2952.,\n",
       "          3000.,  2928.,  2808.,  2952.,  2880.,  2808.,  3048.,  2784.,\n",
       "          2904.,  3264.,  3000.,  2856.,  2832.,  2832.,  2880.,  3312.,\n",
       "          3744.,  3912.,  4704.,  4680.,  5496.,  5856.,  6984.,  7488.,\n",
       "          9216.,  9480.,  9384., 11256., 10752., 11064., 11688., 12000.,\n",
       "         13464., 11904., 11376., 13224., 13872., 14184., 14712., 13920.,\n",
       "         14928., 15552., 15360., 14616., 15480., 15504., 14400., 15960.,\n",
       "         14616., 15264., 12240., 13056., 11400., 11184., 11880., 10896.,\n",
       "          9048.,  8160.,  9504.,  9048.,  8328.,  7680.,  7392.,  6360.,\n",
       "          6912.,  7392.,  7704.,  6912.,  7848.,  6024.,  6696.,  6096.,\n",
       "          6408.,  5208.,  5808.,  5208.,  5232.,  4608.,  5136.,  5352.]]),\n",
       " array([ 3520.,  4800.,  2720.,  4480.,  1760.,  3680.,  1600.,  2880.,\n",
       "         2400.,  1440.,  2720.,  2240.,  1600.,  1600.,  1600.,  1440.,\n",
       "         1760.,  1760.,  1600.,  1600.,  1600.,  1760.,  1600.,  1440.,\n",
       "         1600.,  1600.,  1760.,  1600.,  1760.,  1600.,  1760.,  1760.,\n",
       "         1440.,  2240.,  2400.,  2080.,  2240.,  5440.,  2560.,  6560.,\n",
       "        17280., 11360., 13120., 13920., 13280., 12480., 14080., 13920.,\n",
       "        15200., 13920., 14240., 19680., 16000., 21120., 17760., 14880.,\n",
       "        20800., 22080., 16160., 14880., 21760., 21600., 19200., 19040.,\n",
       "        18720., 21280., 17760., 15680., 14080., 12320., 13600., 13280.,\n",
       "         4160.,  4000.,  4480.,  4000.,  3360.,  3360.,  3200.,  2400.,\n",
       "         2240.,  2400.,  8640.,  8960.,  8480.,  6080.,  7200.,  6560.,\n",
       "         4160.,  4640.,  5440.,  4960.,  4160.,  3840.,  4640.,  4960.]))"
      ]
     },
     "execution_count": 13,
     "metadata": {},
     "output_type": "execute_result"
    }
   ],
   "source": [
    "sm.power_model(datetime.date(2017, 10, 26), data, PDP)"
   ]
  },
  {
   "cell_type": "code",
   "execution_count": 14,
   "metadata": {},
   "outputs": [
    {
     "name": "stderr",
     "output_type": "stream",
     "text": [
      "INFO:root:Generating a new JWT token. Your old token may have expired\n",
      "/Users/jleyden/anaconda3/envs/mortar/lib/python3.6/site-packages/pandas/core/nanops.py:358: RuntimeWarning: divide by zero encountered in true_divide\n",
      "  the_mean = the_sum / count\n"
     ]
    }
   ],
   "source": [
    "start = start_train\n",
    "end = end_train\n",
    "interval = '15min'\n",
    "agg = 'MEAN'\n",
    "alphas = [0.0001, .001, 0.01, 0.05, 0.1, 0.5, 1, 10]\n",
    "\n",
    "# Get weather\n",
    "weather = gd.get_weather(site, start, end, agg=agg, window=interval, cli=cli)\n",
    "weather.index = weather.index.tz_localize('UTC').tz_convert('US/Pacific')\n",
    "closest_station = get_closest_station(site)\n",
    "if closest_station is not None:\n",
    "    weather = pd.DataFrame(weather[closest_station])\n",
    "else:\n",
    "    weather = pd.DataFrame(weather.mean(axis=1))\n",
    "\n",
    "# Get power\n",
    "power = gd.get_power(site, start, end, agg=agg, window=interval, cli=cli) * 4\n",
    "power.index = power.index.tz_localize('UTC').tz_convert('US/Pacific')\n",
    "\n",
    "# Merge\n",
    "weather_mean = pd.DataFrame(weather.mean(axis=1))\n",
    "power_sum = pd.DataFrame(power.sum(axis=1))\n",
    "data = power_sum.merge(weather_mean, left_index=True, right_index=True)\n",
    "data.columns = ['power', 'weather']"
   ]
  },
  {
   "cell_type": "code",
   "execution_count": 15,
   "metadata": {},
   "outputs": [
    {
     "data": {
      "text/html": [
       "<div>\n",
       "<style scoped>\n",
       "    .dataframe tbody tr th:only-of-type {\n",
       "        vertical-align: middle;\n",
       "    }\n",
       "\n",
       "    .dataframe tbody tr th {\n",
       "        vertical-align: top;\n",
       "    }\n",
       "\n",
       "    .dataframe thead th {\n",
       "        text-align: right;\n",
       "    }\n",
       "</style>\n",
       "<table border=\"1\" class=\"dataframe\">\n",
       "  <thead>\n",
       "    <tr style=\"text-align: right;\">\n",
       "      <th></th>\n",
       "      <th>power</th>\n",
       "      <th>weather</th>\n",
       "    </tr>\n",
       "  </thead>\n",
       "  <tbody>\n",
       "    <tr>\n",
       "      <th>2015-12-31 16:00:00-08:00</th>\n",
       "      <td>3248.0</td>\n",
       "      <td>48.20</td>\n",
       "    </tr>\n",
       "    <tr>\n",
       "      <th>2015-12-31 16:15:00-08:00</th>\n",
       "      <td>2592.0</td>\n",
       "      <td>NaN</td>\n",
       "    </tr>\n",
       "    <tr>\n",
       "      <th>2015-12-31 16:30:00-08:00</th>\n",
       "      <td>2416.0</td>\n",
       "      <td>NaN</td>\n",
       "    </tr>\n",
       "    <tr>\n",
       "      <th>2015-12-31 16:45:00-08:00</th>\n",
       "      <td>2288.0</td>\n",
       "      <td>NaN</td>\n",
       "    </tr>\n",
       "    <tr>\n",
       "      <th>2015-12-31 17:00:00-08:00</th>\n",
       "      <td>2272.0</td>\n",
       "      <td>NaN</td>\n",
       "    </tr>\n",
       "    <tr>\n",
       "      <th>2015-12-31 17:15:00-08:00</th>\n",
       "      <td>2576.0</td>\n",
       "      <td>NaN</td>\n",
       "    </tr>\n",
       "    <tr>\n",
       "      <th>2015-12-31 17:30:00-08:00</th>\n",
       "      <td>2368.0</td>\n",
       "      <td>NaN</td>\n",
       "    </tr>\n",
       "    <tr>\n",
       "      <th>2015-12-31 17:45:00-08:00</th>\n",
       "      <td>2592.0</td>\n",
       "      <td>46.40</td>\n",
       "    </tr>\n",
       "    <tr>\n",
       "      <th>2015-12-31 18:00:00-08:00</th>\n",
       "      <td>1616.0</td>\n",
       "      <td>NaN</td>\n",
       "    </tr>\n",
       "    <tr>\n",
       "      <th>2015-12-31 18:15:00-08:00</th>\n",
       "      <td>1936.0</td>\n",
       "      <td>NaN</td>\n",
       "    </tr>\n",
       "    <tr>\n",
       "      <th>2015-12-31 18:30:00-08:00</th>\n",
       "      <td>1728.0</td>\n",
       "      <td>NaN</td>\n",
       "    </tr>\n",
       "    <tr>\n",
       "      <th>2015-12-31 18:45:00-08:00</th>\n",
       "      <td>1712.0</td>\n",
       "      <td>46.40</td>\n",
       "    </tr>\n",
       "    <tr>\n",
       "      <th>2015-12-31 19:00:00-08:00</th>\n",
       "      <td>1536.0</td>\n",
       "      <td>NaN</td>\n",
       "    </tr>\n",
       "    <tr>\n",
       "      <th>2015-12-31 19:15:00-08:00</th>\n",
       "      <td>1600.0</td>\n",
       "      <td>NaN</td>\n",
       "    </tr>\n",
       "    <tr>\n",
       "      <th>2015-12-31 19:30:00-08:00</th>\n",
       "      <td>1808.0</td>\n",
       "      <td>NaN</td>\n",
       "    </tr>\n",
       "    <tr>\n",
       "      <th>2015-12-31 19:45:00-08:00</th>\n",
       "      <td>1680.0</td>\n",
       "      <td>41.00</td>\n",
       "    </tr>\n",
       "    <tr>\n",
       "      <th>2015-12-31 20:00:00-08:00</th>\n",
       "      <td>1648.0</td>\n",
       "      <td>NaN</td>\n",
       "    </tr>\n",
       "    <tr>\n",
       "      <th>2015-12-31 20:15:00-08:00</th>\n",
       "      <td>1856.0</td>\n",
       "      <td>NaN</td>\n",
       "    </tr>\n",
       "    <tr>\n",
       "      <th>2015-12-31 20:30:00-08:00</th>\n",
       "      <td>1600.0</td>\n",
       "      <td>NaN</td>\n",
       "    </tr>\n",
       "    <tr>\n",
       "      <th>2015-12-31 20:45:00-08:00</th>\n",
       "      <td>1920.0</td>\n",
       "      <td>42.80</td>\n",
       "    </tr>\n",
       "    <tr>\n",
       "      <th>2015-12-31 21:00:00-08:00</th>\n",
       "      <td>1664.0</td>\n",
       "      <td>NaN</td>\n",
       "    </tr>\n",
       "    <tr>\n",
       "      <th>2015-12-31 21:15:00-08:00</th>\n",
       "      <td>1872.0</td>\n",
       "      <td>NaN</td>\n",
       "    </tr>\n",
       "    <tr>\n",
       "      <th>2015-12-31 21:30:00-08:00</th>\n",
       "      <td>1680.0</td>\n",
       "      <td>NaN</td>\n",
       "    </tr>\n",
       "    <tr>\n",
       "      <th>2015-12-31 21:45:00-08:00</th>\n",
       "      <td>1696.0</td>\n",
       "      <td>41.00</td>\n",
       "    </tr>\n",
       "    <tr>\n",
       "      <th>2015-12-31 22:00:00-08:00</th>\n",
       "      <td>1920.0</td>\n",
       "      <td>NaN</td>\n",
       "    </tr>\n",
       "    <tr>\n",
       "      <th>2015-12-31 22:15:00-08:00</th>\n",
       "      <td>1632.0</td>\n",
       "      <td>NaN</td>\n",
       "    </tr>\n",
       "    <tr>\n",
       "      <th>2015-12-31 22:30:00-08:00</th>\n",
       "      <td>1680.0</td>\n",
       "      <td>NaN</td>\n",
       "    </tr>\n",
       "    <tr>\n",
       "      <th>2015-12-31 22:45:00-08:00</th>\n",
       "      <td>1616.0</td>\n",
       "      <td>37.40</td>\n",
       "    </tr>\n",
       "    <tr>\n",
       "      <th>2015-12-31 23:00:00-08:00</th>\n",
       "      <td>1392.0</td>\n",
       "      <td>NaN</td>\n",
       "    </tr>\n",
       "    <tr>\n",
       "      <th>2015-12-31 23:15:00-08:00</th>\n",
       "      <td>1360.0</td>\n",
       "      <td>NaN</td>\n",
       "    </tr>\n",
       "    <tr>\n",
       "      <th>...</th>\n",
       "      <td>...</td>\n",
       "      <td>...</td>\n",
       "    </tr>\n",
       "    <tr>\n",
       "      <th>2018-12-20 08:15:00-08:00</th>\n",
       "      <td>0.0</td>\n",
       "      <td>50.00</td>\n",
       "    </tr>\n",
       "    <tr>\n",
       "      <th>2018-12-20 08:30:00-08:00</th>\n",
       "      <td>0.0</td>\n",
       "      <td>50.00</td>\n",
       "    </tr>\n",
       "    <tr>\n",
       "      <th>2018-12-20 08:45:00-08:00</th>\n",
       "      <td>0.0</td>\n",
       "      <td>50.00</td>\n",
       "    </tr>\n",
       "    <tr>\n",
       "      <th>2018-12-20 09:00:00-08:00</th>\n",
       "      <td>0.0</td>\n",
       "      <td>50.00</td>\n",
       "    </tr>\n",
       "    <tr>\n",
       "      <th>2018-12-20 09:15:00-08:00</th>\n",
       "      <td>0.0</td>\n",
       "      <td>50.00</td>\n",
       "    </tr>\n",
       "    <tr>\n",
       "      <th>2018-12-20 09:30:00-08:00</th>\n",
       "      <td>0.0</td>\n",
       "      <td>51.08</td>\n",
       "    </tr>\n",
       "    <tr>\n",
       "      <th>2018-12-20 09:45:00-08:00</th>\n",
       "      <td>0.0</td>\n",
       "      <td>51.08</td>\n",
       "    </tr>\n",
       "    <tr>\n",
       "      <th>2018-12-20 10:00:00-08:00</th>\n",
       "      <td>0.0</td>\n",
       "      <td>51.08</td>\n",
       "    </tr>\n",
       "    <tr>\n",
       "      <th>2018-12-20 10:15:00-08:00</th>\n",
       "      <td>0.0</td>\n",
       "      <td>51.98</td>\n",
       "    </tr>\n",
       "    <tr>\n",
       "      <th>2018-12-20 10:30:00-08:00</th>\n",
       "      <td>0.0</td>\n",
       "      <td>51.98</td>\n",
       "    </tr>\n",
       "    <tr>\n",
       "      <th>2018-12-20 10:45:00-08:00</th>\n",
       "      <td>0.0</td>\n",
       "      <td>51.98</td>\n",
       "    </tr>\n",
       "    <tr>\n",
       "      <th>2018-12-20 11:00:00-08:00</th>\n",
       "      <td>0.0</td>\n",
       "      <td>51.98</td>\n",
       "    </tr>\n",
       "    <tr>\n",
       "      <th>2018-12-20 11:15:00-08:00</th>\n",
       "      <td>0.0</td>\n",
       "      <td>51.98</td>\n",
       "    </tr>\n",
       "    <tr>\n",
       "      <th>2018-12-20 11:30:00-08:00</th>\n",
       "      <td>0.0</td>\n",
       "      <td>51.98</td>\n",
       "    </tr>\n",
       "    <tr>\n",
       "      <th>2018-12-20 11:45:00-08:00</th>\n",
       "      <td>0.0</td>\n",
       "      <td>51.98</td>\n",
       "    </tr>\n",
       "    <tr>\n",
       "      <th>2018-12-20 12:00:00-08:00</th>\n",
       "      <td>0.0</td>\n",
       "      <td>53.06</td>\n",
       "    </tr>\n",
       "    <tr>\n",
       "      <th>2018-12-20 12:15:00-08:00</th>\n",
       "      <td>0.0</td>\n",
       "      <td>53.06</td>\n",
       "    </tr>\n",
       "    <tr>\n",
       "      <th>2018-12-20 12:30:00-08:00</th>\n",
       "      <td>0.0</td>\n",
       "      <td>53.96</td>\n",
       "    </tr>\n",
       "    <tr>\n",
       "      <th>2018-12-20 12:45:00-08:00</th>\n",
       "      <td>0.0</td>\n",
       "      <td>53.96</td>\n",
       "    </tr>\n",
       "    <tr>\n",
       "      <th>2018-12-20 13:00:00-08:00</th>\n",
       "      <td>0.0</td>\n",
       "      <td>53.96</td>\n",
       "    </tr>\n",
       "    <tr>\n",
       "      <th>2018-12-20 13:15:00-08:00</th>\n",
       "      <td>0.0</td>\n",
       "      <td>53.96</td>\n",
       "    </tr>\n",
       "    <tr>\n",
       "      <th>2018-12-20 13:30:00-08:00</th>\n",
       "      <td>0.0</td>\n",
       "      <td>53.96</td>\n",
       "    </tr>\n",
       "    <tr>\n",
       "      <th>2018-12-20 13:45:00-08:00</th>\n",
       "      <td>0.0</td>\n",
       "      <td>53.96</td>\n",
       "    </tr>\n",
       "    <tr>\n",
       "      <th>2018-12-20 14:00:00-08:00</th>\n",
       "      <td>0.0</td>\n",
       "      <td>53.96</td>\n",
       "    </tr>\n",
       "    <tr>\n",
       "      <th>2018-12-20 14:15:00-08:00</th>\n",
       "      <td>0.0</td>\n",
       "      <td>53.96</td>\n",
       "    </tr>\n",
       "    <tr>\n",
       "      <th>2018-12-20 14:30:00-08:00</th>\n",
       "      <td>0.0</td>\n",
       "      <td>53.96</td>\n",
       "    </tr>\n",
       "    <tr>\n",
       "      <th>2018-12-20 14:45:00-08:00</th>\n",
       "      <td>0.0</td>\n",
       "      <td>53.96</td>\n",
       "    </tr>\n",
       "    <tr>\n",
       "      <th>2018-12-20 15:00:00-08:00</th>\n",
       "      <td>0.0</td>\n",
       "      <td>53.96</td>\n",
       "    </tr>\n",
       "    <tr>\n",
       "      <th>2018-12-20 15:15:00-08:00</th>\n",
       "      <td>0.0</td>\n",
       "      <td>55.04</td>\n",
       "    </tr>\n",
       "    <tr>\n",
       "      <th>2018-12-20 15:30:00-08:00</th>\n",
       "      <td>0.0</td>\n",
       "      <td>55.04</td>\n",
       "    </tr>\n",
       "  </tbody>\n",
       "</table>\n",
       "<p>104159 rows × 2 columns</p>\n",
       "</div>"
      ],
      "text/plain": [
       "                            power  weather\n",
       "2015-12-31 16:00:00-08:00  3248.0    48.20\n",
       "2015-12-31 16:15:00-08:00  2592.0      NaN\n",
       "2015-12-31 16:30:00-08:00  2416.0      NaN\n",
       "2015-12-31 16:45:00-08:00  2288.0      NaN\n",
       "2015-12-31 17:00:00-08:00  2272.0      NaN\n",
       "2015-12-31 17:15:00-08:00  2576.0      NaN\n",
       "2015-12-31 17:30:00-08:00  2368.0      NaN\n",
       "2015-12-31 17:45:00-08:00  2592.0    46.40\n",
       "2015-12-31 18:00:00-08:00  1616.0      NaN\n",
       "2015-12-31 18:15:00-08:00  1936.0      NaN\n",
       "2015-12-31 18:30:00-08:00  1728.0      NaN\n",
       "2015-12-31 18:45:00-08:00  1712.0    46.40\n",
       "2015-12-31 19:00:00-08:00  1536.0      NaN\n",
       "2015-12-31 19:15:00-08:00  1600.0      NaN\n",
       "2015-12-31 19:30:00-08:00  1808.0      NaN\n",
       "2015-12-31 19:45:00-08:00  1680.0    41.00\n",
       "2015-12-31 20:00:00-08:00  1648.0      NaN\n",
       "2015-12-31 20:15:00-08:00  1856.0      NaN\n",
       "2015-12-31 20:30:00-08:00  1600.0      NaN\n",
       "2015-12-31 20:45:00-08:00  1920.0    42.80\n",
       "2015-12-31 21:00:00-08:00  1664.0      NaN\n",
       "2015-12-31 21:15:00-08:00  1872.0      NaN\n",
       "2015-12-31 21:30:00-08:00  1680.0      NaN\n",
       "2015-12-31 21:45:00-08:00  1696.0    41.00\n",
       "2015-12-31 22:00:00-08:00  1920.0      NaN\n",
       "2015-12-31 22:15:00-08:00  1632.0      NaN\n",
       "2015-12-31 22:30:00-08:00  1680.0      NaN\n",
       "2015-12-31 22:45:00-08:00  1616.0    37.40\n",
       "2015-12-31 23:00:00-08:00  1392.0      NaN\n",
       "2015-12-31 23:15:00-08:00  1360.0      NaN\n",
       "...                           ...      ...\n",
       "2018-12-20 08:15:00-08:00     0.0    50.00\n",
       "2018-12-20 08:30:00-08:00     0.0    50.00\n",
       "2018-12-20 08:45:00-08:00     0.0    50.00\n",
       "2018-12-20 09:00:00-08:00     0.0    50.00\n",
       "2018-12-20 09:15:00-08:00     0.0    50.00\n",
       "2018-12-20 09:30:00-08:00     0.0    51.08\n",
       "2018-12-20 09:45:00-08:00     0.0    51.08\n",
       "2018-12-20 10:00:00-08:00     0.0    51.08\n",
       "2018-12-20 10:15:00-08:00     0.0    51.98\n",
       "2018-12-20 10:30:00-08:00     0.0    51.98\n",
       "2018-12-20 10:45:00-08:00     0.0    51.98\n",
       "2018-12-20 11:00:00-08:00     0.0    51.98\n",
       "2018-12-20 11:15:00-08:00     0.0    51.98\n",
       "2018-12-20 11:30:00-08:00     0.0    51.98\n",
       "2018-12-20 11:45:00-08:00     0.0    51.98\n",
       "2018-12-20 12:00:00-08:00     0.0    53.06\n",
       "2018-12-20 12:15:00-08:00     0.0    53.06\n",
       "2018-12-20 12:30:00-08:00     0.0    53.96\n",
       "2018-12-20 12:45:00-08:00     0.0    53.96\n",
       "2018-12-20 13:00:00-08:00     0.0    53.96\n",
       "2018-12-20 13:15:00-08:00     0.0    53.96\n",
       "2018-12-20 13:30:00-08:00     0.0    53.96\n",
       "2018-12-20 13:45:00-08:00     0.0    53.96\n",
       "2018-12-20 14:00:00-08:00     0.0    53.96\n",
       "2018-12-20 14:15:00-08:00     0.0    53.96\n",
       "2018-12-20 14:30:00-08:00     0.0    53.96\n",
       "2018-12-20 14:45:00-08:00     0.0    53.96\n",
       "2018-12-20 15:00:00-08:00     0.0    53.96\n",
       "2018-12-20 15:15:00-08:00     0.0    55.04\n",
       "2018-12-20 15:30:00-08:00     0.0    55.04\n",
       "\n",
       "[104159 rows x 2 columns]"
      ]
     },
     "execution_count": 15,
     "metadata": {},
     "output_type": "execute_result"
    }
   ],
   "source": [
    "data"
   ]
  },
  {
   "cell_type": "code",
   "execution_count": 17,
   "metadata": {},
   "outputs": [],
   "source": [
    "from datetime import timedelta"
   ]
  },
  {
   "cell_type": "code",
   "execution_count": 18,
   "metadata": {},
   "outputs": [
    {
     "data": {
      "text/plain": [
       "datetime.date(2018, 6, 20)"
      ]
     },
     "execution_count": 18,
     "metadata": {},
     "output_type": "execute_result"
    }
   ],
   "source": [
    "date = pd.to_datetime('2018-07-20').date()\n",
    "date - timedelta(days=30)"
   ]
  },
  {
   "cell_type": "code",
   "execution_count": 2,
   "metadata": {},
   "outputs": [
    {
     "data": {
      "text/plain": [
       "('2018-06-20T00:00:00-07:00', '2018-07-20T00:00:00-07:00')"
      ]
     },
     "execution_count": 2,
     "metadata": {},
     "output_type": "execute_result"
    }
   ],
   "source": [
    "get_month_window('2018-07-20')"
   ]
  },
  {
   "cell_type": "code",
   "execution_count": 1,
   "metadata": {},
   "outputs": [],
   "source": [
    "from model_objects import WeatherModel"
   ]
  },
  {
   "cell_type": "code",
   "execution_count": 2,
   "metadata": {},
   "outputs": [],
   "source": [
    "wm = WeatherModel(10, 10, [], 5)"
   ]
  },
  {
   "cell_type": "code",
   "execution_count": 3,
   "metadata": {},
   "outputs": [
    {
     "data": {
      "text/plain": [
       "<model_objects.WeatherModel at 0x1a217862b0>"
      ]
     },
     "execution_count": 3,
     "metadata": {},
     "output_type": "execute_result"
    }
   ],
   "source": [
    "wm"
   ]
  },
  {
   "cell_type": "code",
   "execution_count": 4,
   "metadata": {},
   "outputs": [
    {
     "data": {
      "text/plain": [
       "{<model_objects.WeatherModel at 0x1a217862b0>: 5}"
      ]
     },
     "execution_count": 4,
     "metadata": {},
     "output_type": "execute_result"
    }
   ],
   "source": [
    "{wm: 5}"
   ]
  },
  {
   "cell_type": "code",
   "execution_count": 5,
   "metadata": {},
   "outputs": [],
   "source": [
    "wm_2 = WeatherModel(10, 5, [], 5)"
   ]
  },
  {
   "cell_type": "code",
   "execution_count": 8,
   "metadata": {},
   "outputs": [],
   "source": [
    "dic = {\n",
    "    wm: 5,\n",
    "    wm_2: 2\n",
    "}"
   ]
  },
  {
   "cell_type": "code",
   "execution_count": 12,
   "metadata": {},
   "outputs": [],
   "source": [
    "f = open('./config.json')"
   ]
  },
  {
   "cell_type": "code",
   "execution_count": 19,
   "metadata": {},
   "outputs": [],
   "source": [
    "import pickle"
   ]
  },
  {
   "cell_type": "code",
   "execution_count": 26,
   "metadata": {},
   "outputs": [],
   "source": [
    "f = open('new.txt', 'wb')"
   ]
  },
  {
   "cell_type": "code",
   "execution_count": 27,
   "metadata": {},
   "outputs": [],
   "source": [
    "pickle.dump(wm, f)"
   ]
  },
  {
   "cell_type": "code",
   "execution_count": 31,
   "metadata": {},
   "outputs": [],
   "source": [
    "f = open('new.txt', 'rb')"
   ]
  },
  {
   "cell_type": "code",
   "execution_count": 32,
   "metadata": {},
   "outputs": [],
   "source": [
    "load = pickle.load(f)"
   ]
  },
  {
   "cell_type": "code",
   "execution_count": 33,
   "metadata": {},
   "outputs": [
    {
     "data": {
      "text/plain": [
       "<model_objects.WeatherModel at 0x1a2179d780>"
      ]
     },
     "execution_count": 33,
     "metadata": {},
     "output_type": "execute_result"
    }
   ],
   "source": [
    "load"
   ]
  },
  {
   "cell_type": "code",
   "execution_count": 34,
   "metadata": {},
   "outputs": [],
   "source": [
    "import json"
   ]
  },
  {
   "cell_type": "code",
   "execution_count": 49,
   "metadata": {},
   "outputs": [],
   "source": [
    "obj = {'hi': 2, 'bye': 3}"
   ]
  },
  {
   "cell_type": "code",
   "execution_count": 50,
   "metadata": {},
   "outputs": [],
   "source": [
    "f = open('new.json', 'w')"
   ]
  },
  {
   "cell_type": "code",
   "execution_count": 52,
   "metadata": {},
   "outputs": [],
   "source": [
    "json.dump(obj, f)"
   ]
  },
  {
   "cell_type": "code",
   "execution_count": 53,
   "metadata": {},
   "outputs": [],
   "source": [
    "f = open('./models/avenal-animal-shelter/best.txt', 'rb')"
   ]
  },
  {
   "cell_type": "code",
   "execution_count": 54,
   "metadata": {},
   "outputs": [],
   "source": [
    "load = pickle.load(f)"
   ]
  },
  {
   "cell_type": "code",
   "execution_count": 56,
   "metadata": {},
   "outputs": [
    {
     "data": {
      "text/plain": [
       "1576.3491231421367"
      ]
     },
     "execution_count": 56,
     "metadata": {},
     "output_type": "execute_result"
    }
   ],
   "source": [
    "load.rmse"
   ]
  },
  {
   "cell_type": "code",
   "execution_count": 1,
   "metadata": {},
   "outputs": [],
   "source": [
    "from evaluate import evaluate"
   ]
  },
  {
   "cell_type": "code",
   "execution_count": 2,
   "metadata": {},
   "outputs": [
    {
     "data": {
      "text/plain": [
       "{'site': 'ciee',\n",
       " 'date': datetime.date(2018, 7, 20),\n",
       " 'cost': {'actual': 20.015674666666666, 'baseline': 17.91577},\n",
       " 'degree-days': {'cooling': None, 'heating': None},\n",
       " 'baseline-type': 'Power Model: 3 out of 10 last days',\n",
       " 'baseline-rmse': 1634.904888259261,\n",
       " 'actual': array([1866.66666667, 1920.        , 1866.66666667, 1866.66666667,\n",
       "        1866.66666667, 1813.33333333, 1973.33333333, 1813.33333333,\n",
       "        1866.66666667, 1760.        , 1866.66666667, 1760.        ,\n",
       "        1813.33333333, 1866.66666667, 1973.33333333, 2080.        ,\n",
       "        2026.66666667, 1973.33333333, 1866.66666667, 1760.        ,\n",
       "        1866.66666667, 1706.66666667, 1866.66666667, 1813.33333333,\n",
       "        2026.66666667, 2026.66666667, 2080.        , 1973.33333333,\n",
       "        2186.66666667, 2186.66666667, 2400.        , 2986.66666667,\n",
       "        2826.66666667, 2933.33333333, 2880.        , 3200.        ,\n",
       "        3626.66666667, 3786.66666667, 3573.33333333, 3840.        ,\n",
       "        4213.33333333, 4480.        , 4533.33333333, 4480.        ,\n",
       "        4373.33333333, 4373.33333333, 4160.        , 4586.66666667,\n",
       "        5493.33333333, 5866.66666667, 4213.33333333, 5386.66666667,\n",
       "        4373.33333333, 5280.        , 4053.33333333, 6026.66666667,\n",
       "        4533.33333333, 5973.33333333, 4320.        , 6560.        ,\n",
       "        4426.66666667, 8053.33333333, 4640.        , 4586.66666667,\n",
       "        7146.66666667, 6346.66666667, 6826.66666667, 7893.33333333,\n",
       "        4693.33333333, 5866.66666667, 7200.        , 5760.        ,\n",
       "        4266.66666667, 5280.        , 3520.        , 4586.66666667,\n",
       "        3306.66666667, 4426.66666667, 3520.        , 4373.33333333,\n",
       "        3520.        , 4266.66666667, 4000.        , 4000.        ,\n",
       "        2560.        , 2346.66666667, 2293.33333333, 2613.33333333,\n",
       "        2400.        , 2186.66666667, 2186.66666667, 2293.33333333,\n",
       "        2613.33333333, 2560.        , 2346.66666667, 2666.66666667]),\n",
       " 'baseline': array([2560., 1920., 2720., 3520., 2880., 3040., 3840., 3200., 2720.,\n",
       "        2240., 1920., 1920., 1920., 2080., 1760., 1920., 2240., 2400.,\n",
       "        2400., 2400., 2240., 1760., 1760., 1760., 1760., 1760., 1920.,\n",
       "        1760., 1920., 2400., 3200., 3520., 3200., 3360., 3040., 3680.,\n",
       "        3680., 3840., 3680., 3680., 3840., 4320., 4480., 4480., 4160.,\n",
       "        4640., 4320., 4640., 3840., 3840., 4000., 3840., 3840., 4320.,\n",
       "        4000., 4160., 4480., 4320., 4000., 4320., 4320., 4480., 4160.,\n",
       "        4160., 4640., 4160., 4320., 3840., 3680., 3680., 3680., 3200.,\n",
       "        2880., 2720., 2560., 2400., 2880., 2880., 2880., 2720., 2400.,\n",
       "        2880., 2720., 2880., 2720., 3840., 3520., 4480., 3680., 2880.,\n",
       "        3040., 2560., 4000., 4000., 3360., 2560.])}"
      ]
     },
     "execution_count": 2,
     "metadata": {},
     "output_type": "execute_result"
    }
   ],
   "source": [
    "evaluate('ciee', '2018-07-20')"
   ]
  },
  {
   "cell_type": "code",
   "execution_count": 1,
   "metadata": {},
   "outputs": [],
   "source": [
    "from model_objects import PowerModel"
   ]
  },
  {
   "cell_type": "code",
   "execution_count": 2,
   "metadata": {},
   "outputs": [],
   "source": [
    "site = 'ciee'\n",
    "X = 10\n",
    "Y = 10\n",
    "PDP_dates =  [\n",
    "        \"2018-06-12\",\n",
    "        \"2018-06-13\",\n",
    "        \"2018-07-10\",\n",
    "        \"2018-07-16\",\n",
    "        \"2018-07-17\",\n",
    "        \"2018-07-19\",\n",
    "        \"2018-07-24\",\n",
    "        \"2018-07-25\",\n",
    "        \"2018-07-27\"\n",
    "    ]\n",
    "pm = PowerModel(X, Y, PDP_dates)"
   ]
  },
  {
   "cell_type": "code",
   "execution_count": 3,
   "metadata": {},
   "outputs": [],
   "source": [
    "import pymortar\n",
    "import pandas as pd"
   ]
  },
  {
   "cell_type": "code",
   "execution_count": 1,
   "metadata": {},
   "outputs": [
    {
     "name": "stderr",
     "output_type": "stream",
     "text": [
      "DEBUG:matplotlib:CACHEDIR=/Users/jleyden/.matplotlib\n",
      "DEBUG:matplotlib.font_manager:Using fontManager instance from /Users/jleyden/.matplotlib/fontlist-v300.json\n",
      "DEBUG:matplotlib.pyplot:Loaded backend module://ipykernel.pylab.backend_inline version unknown.\n",
      "DEBUG:matplotlib.pyplot:Loaded backend module://ipykernel.pylab.backend_inline version unknown.\n"
     ]
    }
   ],
   "source": [
    "from evaluate import evaluate\n",
    "import matplotlib.pyplot as plt"
   ]
  },
  {
   "cell_type": "code",
   "execution_count": 2,
   "metadata": {},
   "outputs": [
    {
     "ename": "TypeError",
     "evalue": "to_indexed_series() missing 1 required positional argument: 'date'",
     "output_type": "error",
     "traceback": [
      "\u001b[0;31m---------------------------------------------------------------------------\u001b[0m",
      "\u001b[0;31mTypeError\u001b[0m                                 Traceback (most recent call last)",
      "\u001b[0;32m<ipython-input-2-131ae599ad6d>\u001b[0m in \u001b[0;36m<module>\u001b[0;34m\u001b[0m\n\u001b[1;32m      1\u001b[0m \u001b[0mday\u001b[0m \u001b[0;34m=\u001b[0m \u001b[0;34m'2018-07-24'\u001b[0m\u001b[0;34m\u001b[0m\u001b[0m\n\u001b[1;32m      2\u001b[0m \u001b[0msite\u001b[0m \u001b[0;34m=\u001b[0m \u001b[0;34m'orinda-public-library'\u001b[0m\u001b[0;34m\u001b[0m\u001b[0m\n\u001b[0;32m----> 3\u001b[0;31m \u001b[0mresult\u001b[0m \u001b[0;34m=\u001b[0m \u001b[0mevaluate\u001b[0m\u001b[0;34m(\u001b[0m\u001b[0msite\u001b[0m\u001b[0;34m,\u001b[0m \u001b[0mday\u001b[0m\u001b[0;34m)\u001b[0m\u001b[0;34m\u001b[0m\u001b[0m\n\u001b[0m\u001b[1;32m      4\u001b[0m \u001b[0mresult\u001b[0m\u001b[0;34m\u001b[0m\u001b[0m\n",
      "\u001b[0;32m~/XBOS/mortar-analytics/dr_evaluation/evaluate.py\u001b[0m in \u001b[0;36mevaluate\u001b[0;34m(site, date)\u001b[0m\n\u001b[1;32m     11\u001b[0m     \u001b[0mmodel_file\u001b[0m \u001b[0;34m=\u001b[0m \u001b[0mopen\u001b[0m\u001b[0;34m(\u001b[0m\u001b[0mbest_model_path\u001b[0m\u001b[0;34m,\u001b[0m \u001b[0;34m'rb'\u001b[0m\u001b[0;34m)\u001b[0m\u001b[0;34m\u001b[0m\u001b[0m\n\u001b[1;32m     12\u001b[0m     \u001b[0mbest_model\u001b[0m \u001b[0;34m=\u001b[0m \u001b[0mpickle\u001b[0m\u001b[0;34m.\u001b[0m\u001b[0mload\u001b[0m\u001b[0;34m(\u001b[0m\u001b[0mmodel_file\u001b[0m\u001b[0;34m)\u001b[0m\u001b[0;34m\u001b[0m\u001b[0m\n\u001b[0;32m---> 13\u001b[0;31m     \u001b[0mactual\u001b[0m\u001b[0;34m,\u001b[0m \u001b[0mprediction\u001b[0m \u001b[0;34m=\u001b[0m \u001b[0mbest_model\u001b[0m\u001b[0;34m.\u001b[0m\u001b[0mpredict\u001b[0m\u001b[0;34m(\u001b[0m\u001b[0msite\u001b[0m\u001b[0;34m,\u001b[0m \u001b[0mdate\u001b[0m\u001b[0;34m,\u001b[0m \u001b[0mcli\u001b[0m\u001b[0;34m)\u001b[0m\u001b[0;34m\u001b[0m\u001b[0m\n\u001b[0m\u001b[1;32m     14\u001b[0m     \u001b[0mdaily_data\u001b[0m \u001b[0;34m=\u001b[0m \u001b[0mget_daily_data\u001b[0m\u001b[0;34m(\u001b[0m\u001b[0msite\u001b[0m\u001b[0;34m,\u001b[0m \u001b[0mactual\u001b[0m\u001b[0;34m,\u001b[0m \u001b[0mprediction\u001b[0m\u001b[0;34m)\u001b[0m\u001b[0;34m\u001b[0m\u001b[0m\n\u001b[1;32m     15\u001b[0m     return {\n",
      "\u001b[0;32m~/XBOS/mortar-analytics/dr_evaluation/model_objects.py\u001b[0m in \u001b[0;36mpredict\u001b[0;34m(self, site, event_day, cli)\u001b[0m\n\u001b[1;32m     45\u001b[0m         \u001b[0mstart\u001b[0m\u001b[0;34m,\u001b[0m \u001b[0mend\u001b[0m \u001b[0;34m=\u001b[0m \u001b[0mget_month_window\u001b[0m\u001b[0;34m(\u001b[0m\u001b[0mevent_day\u001b[0m\u001b[0;34m)\u001b[0m\u001b[0;34m\u001b[0m\u001b[0m\n\u001b[1;32m     46\u001b[0m         \u001b[0mdata\u001b[0m \u001b[0;34m=\u001b[0m \u001b[0mgd\u001b[0m\u001b[0;34m.\u001b[0m\u001b[0mget_df\u001b[0m\u001b[0;34m(\u001b[0m\u001b[0msite\u001b[0m\u001b[0;34m,\u001b[0m \u001b[0mstart\u001b[0m\u001b[0;34m,\u001b[0m \u001b[0mend\u001b[0m\u001b[0;34m,\u001b[0m \u001b[0mcli\u001b[0m\u001b[0;34m)\u001b[0m\u001b[0;34m\u001b[0m\u001b[0m\n\u001b[0;32m---> 47\u001b[0;31m         \u001b[0mprediction\u001b[0m\u001b[0;34m,\u001b[0m \u001b[0mactual\u001b[0m \u001b[0;34m=\u001b[0m \u001b[0mpower_model\u001b[0m\u001b[0;34m(\u001b[0m\u001b[0mevent_day\u001b[0m\u001b[0;34m,\u001b[0m \u001b[0mdata\u001b[0m\u001b[0;34m,\u001b[0m \u001b[0mself\u001b[0m\u001b[0;34m.\u001b[0m\u001b[0mPDP_dates\u001b[0m\u001b[0;34m,\u001b[0m \u001b[0mself\u001b[0m\u001b[0;34m.\u001b[0m\u001b[0mX\u001b[0m\u001b[0;34m,\u001b[0m \u001b[0mself\u001b[0m\u001b[0;34m.\u001b[0m\u001b[0mY\u001b[0m\u001b[0;34m)\u001b[0m\u001b[0;34m\u001b[0m\u001b[0m\n\u001b[0m\u001b[1;32m     48\u001b[0m         \u001b[0;32mreturn\u001b[0m \u001b[0mactual\u001b[0m\u001b[0;34m,\u001b[0m \u001b[0mprediction\u001b[0m\u001b[0;34m\u001b[0m\u001b[0m\n\u001b[1;32m     49\u001b[0m \u001b[0;34m\u001b[0m\u001b[0m\n",
      "\u001b[0;32m~/XBOS/mortar-analytics/dr_evaluation/static_models.py\u001b[0m in \u001b[0;36mpower_model\u001b[0;34m(event_day, data, PDP_dates, X, Y)\u001b[0m\n\u001b[1;32m     40\u001b[0m     \u001b[0mdemand_event\u001b[0m\u001b[0;34m=\u001b[0m\u001b[0mdemand_pivot\u001b[0m\u001b[0;34m[\u001b[0m\u001b[0mdemand_pivot\u001b[0m\u001b[0;34m.\u001b[0m\u001b[0mindex\u001b[0m\u001b[0;34m==\u001b[0m\u001b[0mevent_index\u001b[0m\u001b[0;34m]\u001b[0m\u001b[0;34m.\u001b[0m\u001b[0mvalues\u001b[0m\u001b[0;34m[\u001b[0m\u001b[0;36m0\u001b[0m\u001b[0;34m]\u001b[0m\u001b[0;34m\u001b[0m\u001b[0m\n\u001b[1;32m     41\u001b[0m \u001b[0;34m\u001b[0m\u001b[0m\n\u001b[0;32m---> 42\u001b[0;31m     \u001b[0mprediction\u001b[0m \u001b[0;34m=\u001b[0m \u001b[0mto_indexed_series\u001b[0m\u001b[0;34m(\u001b[0m\u001b[0mdemand_baseline\u001b[0m\u001b[0;34m.\u001b[0m\u001b[0mT\u001b[0m\u001b[0;34m.\u001b[0m\u001b[0mvalues\u001b[0m\u001b[0;34m[\u001b[0m\u001b[0;36m0\u001b[0m\u001b[0;34m]\u001b[0m\u001b[0;34m)\u001b[0m\u001b[0;34m\u001b[0m\u001b[0m\n\u001b[0m\u001b[1;32m     43\u001b[0m     \u001b[0mactual\u001b[0m \u001b[0;34m=\u001b[0m \u001b[0mto_indexed_series\u001b[0m\u001b[0;34m(\u001b[0m\u001b[0mdemand_event\u001b[0m\u001b[0;34m)\u001b[0m\u001b[0;34m\u001b[0m\u001b[0m\n\u001b[1;32m     44\u001b[0m     \u001b[0;32mreturn\u001b[0m \u001b[0mactual\u001b[0m\u001b[0;34m,\u001b[0m \u001b[0mprediction\u001b[0m\u001b[0;34m\u001b[0m\u001b[0m\n",
      "\u001b[0;31mTypeError\u001b[0m: to_indexed_series() missing 1 required positional argument: 'date'"
     ]
    }
   ],
   "source": [
    "day = '2018-07-24'\n",
    "site = 'orinda-public-library'\n",
    "result = evaluate(site, day)\n",
    "result"
   ]
  },
  {
   "cell_type": "code",
   "execution_count": 29,
   "metadata": {},
   "outputs": [],
   "source": [
    "import pandas as pd\n",
    "\n",
    "from pandas.tseries.holiday import USFederalHolidayCalendar as calendar\n",
    "from pandas.tseries.offsets import CustomBusinessDay\n",
    "import matplotlib.pyplot as plt\n",
    "\n",
    "import numpy as np\n",
    "import datetime\n",
    "\n",
    "import get_data as gd\n",
    "\n",
    "import pymortar\n",
    "\n",
    "def _remove_PDP_days(data, PDP_list):\n",
    "    \n",
    "    try:\n",
    "        for i in PDP_list:\n",
    "            day=datetime.datetime.strptime(str(i), \"%Y-%m-%d\").date()\n",
    "            data=data[~(data.index.date == day)]       \n",
    "        return data\n",
    "    \n",
    "    except:\n",
    "        print('error in _remove_PDP_days')\n",
    "        return data\n",
    "    \n",
    "\n",
    "def _remove_WE_holidays_NaN(data, start, end):\n",
    "    \n",
    "    no_WE = ~((data.index.weekday == 5) | (data.index.weekday == 6)) # remove if WE\n",
    "\n",
    "    cal = calendar() \n",
    "#     start = datetime.datetime.strftime(data.index.min(),\"%Y-%m-%d\")\n",
    "#     end =datetime.datetime.strftime(data.index.max(),\"%Y-%m-%d\")\n",
    "\n",
    "    hol_cal = cal.holidays(start=start, end=end)\n",
    "    #hol_cal=pd.to_datetime(hol_cal).tz_localize(\"America/Los_Angeles\") \n",
    "    no_hol = ~data.index.isin(hol_cal) # remove if it is a national holiday   \n",
    "    no_NaN = ~data.isna().all(axis=1) # remove if has any NaN for any hour\n",
    "\n",
    "    \n",
    "    return data[no_WE & no_hol & no_NaN]\n",
    "\n",
    "def get_window_of_day(date):\n",
    "    start, end = pd.date_range(start=date, periods=2, freq='1d')\n",
    "    start_ts = str(start.date()) + 'T00:00:00-08:00'\n",
    "    end_ts = str(end.date()) + 'T00:00:00-08:00'\n",
    "    return start_ts, end_ts\n",
    "\n",
    "def isValidTestDay(date):\n",
    "    start, end = get_window_of_day(date)\n",
    "    data  = gd.get_df(site, start, end, agg='MEAN', interval='15min', cli=cli)\n",
    "    for column in data.columns:\n",
    "        col = data[column]\n",
    "        if col.isna().sum() > 0.5*len(result):\n",
    "            return False\n",
    "        if (col == 0).sum() > 0.5*len(result):\n",
    "            return False\n",
    "        if len(col.unique()) < 3:\n",
    "            return False\n",
    "    return True\n",
    "\n",
    "#%%\n",
    "def get_test_data(site, PDP_days, start_search, end_search, cli, fraction_test=0.5):\n",
    "    means=[]\n",
    "    maxes = []\n",
    "    for day in PDP_days:\n",
    "        start, end = get_window_of_day(day)\n",
    "        weather_mean = gd.get_weather(site, start, end, agg='MEAN', window='24h', cli=cli)\n",
    "        means.append(weather_mean)   \n",
    "        weather_max = gd.get_weather(site, start, end, agg='MAX', window='24h', cli=cli)\n",
    "        maxes.append(weather_max)\n",
    "        \n",
    "    means = pd.concat(means, sort=True)\n",
    "    maxes = pd.concat(maxes, sort=True)\n",
    "    mean_cutoff = means.median().mean()\n",
    "    max_cutoff = maxes.median().mean()\n",
    "\n",
    "    weather_mean_all = gd.get_weather(site, start_search, end_search, agg='MEAN', window='24h', cli=cli)\n",
    "    weather_mean = weather_mean_all.mean(axis=1)  \n",
    "    weather_max_all = gd.get_weather(site, start_search, end_search, agg='MAX', window='24h', cli=cli)\n",
    "    weather_max = weather_max_all.mean(axis=1)\n",
    "    \n",
    "    weather = pd.DataFrame({'mean': weather_mean,'max': weather_max})\n",
    "    \n",
    "    \n",
    "    weather=_remove_PDP_days(weather, PDP_days) \n",
    "    \n",
    "    weather=_remove_WE_holidays_NaN(weather, start_search, end_search)\n",
    "    \n",
    "    above_mean_cuttoff = weather['mean'] >= mean_cutoff\n",
    "    above_max_cutoff = weather['max'] >= max_cutoff\n",
    "    \n",
    "    above_cutoff = above_max_cutoff & above_mean_cuttoff\n",
    "    qualified = above_cutoff[above_cutoff]\n",
    "    valid_filter = [isValidTestDay(day) for day in qualified.index]\n",
    "    qualified = qualified[valid_filter]\n",
    "    num_testing_samples=int(np.ceil(np.size(qualified)*fraction_test))\n",
    "        \n",
    "    shuffled=list(qualified.sample(frac=1, random_state=47).index)\n",
    "    weather_test=shuffled[0:num_testing_samples]\n",
    "    weather_train=shuffled[num_testing_samples:]\n",
    "\n",
    "    # convert to datetime.dates\n",
    "    test_days = [t.date() for t in weather_test]\n",
    "    train_days = [t.date() for t in weather_train]\n",
    "    \n",
    "    return test_days, train_days\n",
    "\n",
    "    "
   ]
  },
  {
   "cell_type": "code",
   "execution_count": 30,
   "metadata": {},
   "outputs": [
    {
     "data": {
      "text/plain": [
       "([datetime.date(2018, 6, 4), datetime.date(2018, 7, 12)],\n",
       " [datetime.date(2018, 7, 13)])"
      ]
     },
     "execution_count": 30,
     "metadata": {},
     "output_type": "execute_result"
    }
   ],
   "source": [
    "site = 'avenal-veterans-hall'\n",
    "PDP_dates =  [\n",
    "        \"2018-06-12\",\n",
    "        \"2018-06-13\",\n",
    "        \"2018-07-10\",\n",
    "        \"2018-07-16\",\n",
    "        \"2018-07-17\",\n",
    "        \"2018-07-19\",\n",
    "        \"2018-07-24\",\n",
    "        \"2018-07-25\",\n",
    "        \"2018-07-27\"\n",
    "    ]\n",
    "start = \"2018-06-01T00:00:00Z\"\n",
    "end = \"2018-08-01T00:00:00Z\"\n",
    "cli = pymortar.Client()\n",
    "get_test_data(site, PDP_dates, start, end, cli, fraction_test=0.5)"
   ]
  },
  {
   "cell_type": "code",
   "execution_count": 3,
   "metadata": {},
   "outputs": [],
   "source": [
    "site = 'avenal-veterans-hall'\n",
    "PDP_dates =  [\n",
    "        \"2018-06-12\",\n",
    "        \"2018-06-13\",\n",
    "        \"2018-07-10\",\n",
    "        \"2018-07-16\",\n",
    "        \"2018-07-17\",\n",
    "        \"2018-07-19\",\n",
    "        \"2018-07-24\",\n",
    "        \"2018-07-25\",\n",
    "        \"2018-07-27\"\n",
    "    ]\n",
    "start = \"2018-07-20T00:00:00Z\"\n",
    "end = \"2018-07-22T00:00:00Z\"\n",
    "cli = pymortar.Client()"
   ]
  },
  {
   "cell_type": "code",
   "execution_count": 4,
   "metadata": {},
   "outputs": [],
   "source": [
    "result  = gd.get_weather(site, start, end, agg='MEAN', window='15min', cli=cli)\n",
    "result.index = result.index.tz_localize('UTC').tz_convert('US/Pacific')"
   ]
  },
  {
   "cell_type": "code",
   "execution_count": 5,
   "metadata": {},
   "outputs": [],
   "source": [
    "data = result.iloc[:, 0]"
   ]
  },
  {
   "cell_type": "code",
   "execution_count": 6,
   "metadata": {},
   "outputs": [
    {
     "data": {
      "text/plain": [
       "98.9999960000001"
      ]
     },
     "execution_count": 6,
     "metadata": {},
     "output_type": "execute_result"
    }
   ],
   "source": [
    "data.loc[pd.to_datetime('2018-07-20')]"
   ]
  },
  {
   "cell_type": "code",
   "execution_count": 7,
   "metadata": {},
   "outputs": [],
   "source": [
    "data = data[data.index.date == pd.to_datetime('2018-07-20').date()]"
   ]
  },
  {
   "cell_type": "code",
   "execution_count": 8,
   "metadata": {},
   "outputs": [
    {
     "data": {
      "text/plain": [
       "False"
      ]
     },
     "execution_count": 8,
     "metadata": {},
     "output_type": "execute_result"
    }
   ],
   "source": [
    "len(data.unique()) > 9"
   ]
  },
  {
   "cell_type": "code",
   "execution_count": 9,
   "metadata": {},
   "outputs": [],
   "source": [
    "start, end = get_window_of_day('2018-07-20')"
   ]
  },
  {
   "cell_type": "code",
   "execution_count": 10,
   "metadata": {},
   "outputs": [
    {
     "data": {
      "text/plain": [
       "'2018-07-20T00:00:00-07:00'"
      ]
     },
     "execution_count": 10,
     "metadata": {},
     "output_type": "execute_result"
    }
   ],
   "source": [
    "start"
   ]
  },
  {
   "cell_type": "code",
   "execution_count": 11,
   "metadata": {},
   "outputs": [],
   "source": [
    "import dateutil.parser as parser\n",
    "\n",
    "\n",
    "def get_window_of_day_2(date):\n",
    "    start, end = pd.date_range(start=date, periods=2, freq='1d', tz='US/Pacific')\n",
    "    start_ts = start.isoformat()\n",
    "    end_ts = end.isoformat()\n",
    "    return start_ts, end_ts"
   ]
  },
  {
   "cell_type": "code",
   "execution_count": 15,
   "metadata": {},
   "outputs": [
    {
     "ename": "_Rendezvous",
     "evalue": "<_Rendezvous of RPC that terminated with:\n\tstatus = StatusCode.INTERNAL\n\tdetails = \"Received RST_STREAM with error code 2\"\n\tdebug_error_string = \"{\"created\":\"@1556907654.185065000\",\"description\":\"Error received from peer\",\"file\":\"src/core/lib/surface/call.cc\",\"file_line\":1039,\"grpc_message\":\"Received RST_STREAM with error code 2\",\"grpc_status\":13}\"\n>",
     "output_type": "error",
     "traceback": [
      "\u001b[0;31m---------------------------------------------------------------------------\u001b[0m",
      "\u001b[0;31m_Rendezvous\u001b[0m                               Traceback (most recent call last)",
      "\u001b[0;32m<ipython-input-15-95786d026000>\u001b[0m in \u001b[0;36m<module>\u001b[0;34m\u001b[0m\n\u001b[0;32m----> 1\u001b[0;31m \u001b[0mresult\u001b[0m  \u001b[0;34m=\u001b[0m \u001b[0mgd\u001b[0m\u001b[0;34m.\u001b[0m\u001b[0mget_df\u001b[0m\u001b[0;34m(\u001b[0m\u001b[0msite\u001b[0m\u001b[0;34m,\u001b[0m \u001b[0mstart\u001b[0m\u001b[0;34m,\u001b[0m \u001b[0mend\u001b[0m\u001b[0;34m,\u001b[0m \u001b[0magg\u001b[0m\u001b[0;34m=\u001b[0m\u001b[0;34m'MEAN'\u001b[0m\u001b[0;34m,\u001b[0m \u001b[0minterval\u001b[0m\u001b[0;34m=\u001b[0m\u001b[0;34m'15min'\u001b[0m\u001b[0;34m,\u001b[0m \u001b[0mcli\u001b[0m\u001b[0;34m=\u001b[0m\u001b[0mcli\u001b[0m\u001b[0;34m)\u001b[0m\u001b[0;34m\u001b[0m\u001b[0m\n\u001b[0m",
      "\u001b[0;32m~/XBOS/mortar-analytics/dr_evaluation/get_data.py\u001b[0m in \u001b[0;36mget_df\u001b[0;34m(site, start, end, cli, agg, interval)\u001b[0m\n\u001b[1;32m     68\u001b[0m \u001b[0;34m\u001b[0m\u001b[0m\n\u001b[1;32m     69\u001b[0m     \u001b[0;31m# Get power\u001b[0m\u001b[0;34m\u001b[0m\u001b[0;34m\u001b[0m\u001b[0m\n\u001b[0;32m---> 70\u001b[0;31m     \u001b[0mpower\u001b[0m \u001b[0;34m=\u001b[0m \u001b[0mget_power\u001b[0m\u001b[0;34m(\u001b[0m\u001b[0msite\u001b[0m\u001b[0;34m,\u001b[0m \u001b[0mstart\u001b[0m\u001b[0;34m,\u001b[0m \u001b[0mend\u001b[0m\u001b[0;34m,\u001b[0m \u001b[0magg\u001b[0m\u001b[0;34m=\u001b[0m\u001b[0magg\u001b[0m\u001b[0;34m,\u001b[0m \u001b[0mwindow\u001b[0m\u001b[0;34m=\u001b[0m\u001b[0minterval\u001b[0m\u001b[0;34m,\u001b[0m \u001b[0mcli\u001b[0m\u001b[0;34m=\u001b[0m\u001b[0mcli\u001b[0m\u001b[0;34m)\u001b[0m \u001b[0;34m*\u001b[0m \u001b[0;36m4\u001b[0m\u001b[0;34m\u001b[0m\u001b[0m\n\u001b[0m\u001b[1;32m     71\u001b[0m     \u001b[0mpower\u001b[0m\u001b[0;34m.\u001b[0m\u001b[0mindex\u001b[0m \u001b[0;34m=\u001b[0m \u001b[0mpower\u001b[0m\u001b[0;34m.\u001b[0m\u001b[0mindex\u001b[0m\u001b[0;34m.\u001b[0m\u001b[0mtz_localize\u001b[0m\u001b[0;34m(\u001b[0m\u001b[0;34m'UTC'\u001b[0m\u001b[0;34m)\u001b[0m\u001b[0;34m.\u001b[0m\u001b[0mtz_convert\u001b[0m\u001b[0;34m(\u001b[0m\u001b[0;34m'US/Pacific'\u001b[0m\u001b[0;34m)\u001b[0m\u001b[0;34m\u001b[0m\u001b[0m\n\u001b[1;32m     72\u001b[0m \u001b[0;34m\u001b[0m\u001b[0m\n",
      "\u001b[0;32m~/XBOS/mortar-analytics/dr_evaluation/get_data.py\u001b[0m in \u001b[0;36mget_power\u001b[0;34m(site, start, end, agg, window, cli)\u001b[0m\n\u001b[1;32m     53\u001b[0m         ]\n\u001b[1;32m     54\u001b[0m     )\n\u001b[0;32m---> 55\u001b[0;31m     \u001b[0mresult\u001b[0m \u001b[0;34m=\u001b[0m \u001b[0mcli\u001b[0m\u001b[0;34m.\u001b[0m\u001b[0mfetch\u001b[0m\u001b[0;34m(\u001b[0m\u001b[0mrequest\u001b[0m\u001b[0;34m)\u001b[0m\u001b[0;34m\u001b[0m\u001b[0m\n\u001b[0m\u001b[1;32m     56\u001b[0m     \u001b[0;32mreturn\u001b[0m \u001b[0mresult\u001b[0m\u001b[0;34m[\u001b[0m\u001b[0;34m'power'\u001b[0m\u001b[0;34m]\u001b[0m\u001b[0;34m\u001b[0m\u001b[0m\n\u001b[1;32m     57\u001b[0m \u001b[0;34m\u001b[0m\u001b[0m\n",
      "\u001b[0;32m~/anaconda3/envs/mortar/lib/python3.6/site-packages/pymortar/__init__.py\u001b[0m in \u001b[0;36mfetch\u001b[0;34m(self, request)\u001b[0m\n\u001b[1;32m    141\u001b[0m                 \u001b[0;32mreturn\u001b[0m \u001b[0mself\u001b[0m\u001b[0;34m.\u001b[0m\u001b[0mfetch\u001b[0m\u001b[0;34m(\u001b[0m\u001b[0mrequest\u001b[0m\u001b[0;34m)\u001b[0m\u001b[0;34m\u001b[0m\u001b[0m\n\u001b[1;32m    142\u001b[0m             \u001b[0;32melse\u001b[0m\u001b[0;34m:\u001b[0m\u001b[0;34m\u001b[0m\u001b[0m\n\u001b[0;32m--> 143\u001b[0;31m                 \u001b[0;32mraise\u001b[0m \u001b[0me\u001b[0m\u001b[0;34m\u001b[0m\u001b[0m\n\u001b[0m\u001b[1;32m    144\u001b[0m         \u001b[0mres\u001b[0m\u001b[0;34m.\u001b[0m\u001b[0mbuild\u001b[0m\u001b[0;34m(\u001b[0m\u001b[0;34m)\u001b[0m\u001b[0;34m\u001b[0m\u001b[0m\n\u001b[1;32m    145\u001b[0m         \u001b[0;32mreturn\u001b[0m \u001b[0mres\u001b[0m\u001b[0;34m\u001b[0m\u001b[0m\n",
      "\u001b[0;32m~/anaconda3/envs/mortar/lib/python3.6/site-packages/pymortar/__init__.py\u001b[0m in \u001b[0;36mfetch\u001b[0;34m(self, request)\u001b[0m\n\u001b[1;32m    130\u001b[0m         \u001b[0;31m# TODO: we can get a token expiry error here\u001b[0m\u001b[0;34m\u001b[0m\u001b[0;34m\u001b[0m\u001b[0m\n\u001b[1;32m    131\u001b[0m         \u001b[0;32mtry\u001b[0m\u001b[0;34m:\u001b[0m\u001b[0;34m\u001b[0m\u001b[0m\n\u001b[0;32m--> 132\u001b[0;31m             \u001b[0;32mfor\u001b[0m \u001b[0mx\u001b[0m \u001b[0;32min\u001b[0m \u001b[0mresp\u001b[0m\u001b[0;34m:\u001b[0m\u001b[0;34m\u001b[0m\u001b[0m\n\u001b[0m\u001b[1;32m    133\u001b[0m                 \u001b[0;32mif\u001b[0m \u001b[0mx\u001b[0m\u001b[0;34m.\u001b[0m\u001b[0merror\u001b[0m \u001b[0;34m!=\u001b[0m \u001b[0;34m\"\"\u001b[0m\u001b[0;34m:\u001b[0m\u001b[0;34m\u001b[0m\u001b[0m\n\u001b[1;32m    134\u001b[0m                     \u001b[0mlogging\u001b[0m\u001b[0;34m.\u001b[0m\u001b[0merror\u001b[0m\u001b[0;34m(\u001b[0m\u001b[0mx\u001b[0m\u001b[0;34m.\u001b[0m\u001b[0merror\u001b[0m\u001b[0;34m)\u001b[0m\u001b[0;34m\u001b[0m\u001b[0m\n",
      "\u001b[0;32m~/anaconda3/envs/mortar/lib/python3.6/site-packages/grpc/_channel.py\u001b[0m in \u001b[0;36m__next__\u001b[0;34m(self)\u001b[0m\n\u001b[1;32m    361\u001b[0m \u001b[0;34m\u001b[0m\u001b[0m\n\u001b[1;32m    362\u001b[0m     \u001b[0;32mdef\u001b[0m \u001b[0m__next__\u001b[0m\u001b[0;34m(\u001b[0m\u001b[0mself\u001b[0m\u001b[0;34m)\u001b[0m\u001b[0;34m:\u001b[0m\u001b[0;34m\u001b[0m\u001b[0m\n\u001b[0;32m--> 363\u001b[0;31m         \u001b[0;32mreturn\u001b[0m \u001b[0mself\u001b[0m\u001b[0;34m.\u001b[0m\u001b[0m_next\u001b[0m\u001b[0;34m(\u001b[0m\u001b[0;34m)\u001b[0m\u001b[0;34m\u001b[0m\u001b[0m\n\u001b[0m\u001b[1;32m    364\u001b[0m \u001b[0;34m\u001b[0m\u001b[0m\n\u001b[1;32m    365\u001b[0m     \u001b[0;32mdef\u001b[0m \u001b[0mnext\u001b[0m\u001b[0;34m(\u001b[0m\u001b[0mself\u001b[0m\u001b[0;34m)\u001b[0m\u001b[0;34m:\u001b[0m\u001b[0;34m\u001b[0m\u001b[0m\n",
      "\u001b[0;32m~/anaconda3/envs/mortar/lib/python3.6/site-packages/grpc/_channel.py\u001b[0m in \u001b[0;36m_next\u001b[0;34m(self)\u001b[0m\n\u001b[1;32m    355\u001b[0m                         \u001b[0;32mraise\u001b[0m \u001b[0mStopIteration\u001b[0m\u001b[0;34m(\u001b[0m\u001b[0;34m)\u001b[0m\u001b[0;34m\u001b[0m\u001b[0m\n\u001b[1;32m    356\u001b[0m                     \u001b[0;32melif\u001b[0m \u001b[0mself\u001b[0m\u001b[0;34m.\u001b[0m\u001b[0m_state\u001b[0m\u001b[0;34m.\u001b[0m\u001b[0mcode\u001b[0m \u001b[0;32mis\u001b[0m \u001b[0;32mnot\u001b[0m \u001b[0;32mNone\u001b[0m\u001b[0;34m:\u001b[0m\u001b[0;34m\u001b[0m\u001b[0m\n\u001b[0;32m--> 357\u001b[0;31m                         \u001b[0;32mraise\u001b[0m \u001b[0mself\u001b[0m\u001b[0;34m\u001b[0m\u001b[0m\n\u001b[0m\u001b[1;32m    358\u001b[0m \u001b[0;34m\u001b[0m\u001b[0m\n\u001b[1;32m    359\u001b[0m     \u001b[0;32mdef\u001b[0m \u001b[0m__iter__\u001b[0m\u001b[0;34m(\u001b[0m\u001b[0mself\u001b[0m\u001b[0;34m)\u001b[0m\u001b[0;34m:\u001b[0m\u001b[0;34m\u001b[0m\u001b[0m\n",
      "\u001b[0;31m_Rendezvous\u001b[0m: <_Rendezvous of RPC that terminated with:\n\tstatus = StatusCode.INTERNAL\n\tdetails = \"Received RST_STREAM with error code 2\"\n\tdebug_error_string = \"{\"created\":\"@1556907654.185065000\",\"description\":\"Error received from peer\",\"file\":\"src/core/lib/surface/call.cc\",\"file_line\":1039,\"grpc_message\":\"Received RST_STREAM with error code 2\",\"grpc_status\":13}\"\n>"
     ]
    }
   ],
   "source": [
    "result  = gd.get_df(site, start, end, agg='MEAN', interval='15min', cli=cli)"
   ]
  },
  {
   "cell_type": "code",
   "execution_count": 14,
   "metadata": {},
   "outputs": [
    {
     "ename": "KeyboardInterrupt",
     "evalue": "",
     "output_type": "error",
     "traceback": [
      "\u001b[0;31m---------------------------------------------------------------------------\u001b[0m",
      "\u001b[0;31mKeyboardInterrupt\u001b[0m                         Traceback (most recent call last)",
      "\u001b[0;32m<ipython-input-14-97d407b7cb4c>\u001b[0m in \u001b[0;36m<module>\u001b[0;34m\u001b[0m\n\u001b[1;32m      1\u001b[0m \u001b[0mstart\u001b[0m\u001b[0;34m,\u001b[0m \u001b[0mend\u001b[0m \u001b[0;34m=\u001b[0m \u001b[0mget_window_of_day\u001b[0m\u001b[0;34m(\u001b[0m\u001b[0;34m'2018-07-20'\u001b[0m\u001b[0;34m)\u001b[0m\u001b[0;34m\u001b[0m\u001b[0m\n\u001b[0;32m----> 2\u001b[0;31m \u001b[0mresult\u001b[0m  \u001b[0;34m=\u001b[0m \u001b[0mgd\u001b[0m\u001b[0;34m.\u001b[0m\u001b[0mget_df\u001b[0m\u001b[0;34m(\u001b[0m\u001b[0msite\u001b[0m\u001b[0;34m,\u001b[0m \u001b[0mstart\u001b[0m\u001b[0;34m,\u001b[0m \u001b[0mend\u001b[0m\u001b[0;34m,\u001b[0m \u001b[0magg\u001b[0m\u001b[0;34m=\u001b[0m\u001b[0;34m'MEAN'\u001b[0m\u001b[0;34m,\u001b[0m \u001b[0minterval\u001b[0m\u001b[0;34m=\u001b[0m\u001b[0;34m'15min'\u001b[0m\u001b[0;34m,\u001b[0m \u001b[0mcli\u001b[0m\u001b[0;34m=\u001b[0m\u001b[0mcli\u001b[0m\u001b[0;34m)\u001b[0m\u001b[0;34m\u001b[0m\u001b[0m\n\u001b[0m\u001b[1;32m      3\u001b[0m \u001b[0mweather\u001b[0m \u001b[0;34m=\u001b[0m \u001b[0mresult\u001b[0m\u001b[0;34m[\u001b[0m\u001b[0;34m'weather'\u001b[0m\u001b[0;34m]\u001b[0m\u001b[0;34m\u001b[0m\u001b[0m\n\u001b[1;32m      4\u001b[0m \u001b[0mlen\u001b[0m\u001b[0;34m(\u001b[0m\u001b[0mweather\u001b[0m\u001b[0;34m.\u001b[0m\u001b[0munique\u001b[0m\u001b[0;34m(\u001b[0m\u001b[0;34m)\u001b[0m\u001b[0;34m)\u001b[0m \u001b[0;34m<\u001b[0m \u001b[0;36m0.2\u001b[0m\u001b[0;34m*\u001b[0m\u001b[0mlen\u001b[0m\u001b[0;34m(\u001b[0m\u001b[0mresult\u001b[0m\u001b[0;34m)\u001b[0m\u001b[0;34m\u001b[0m\u001b[0m\n",
      "\u001b[0;32m~/XBOS/mortar-analytics/dr_evaluation/get_data.py\u001b[0m in \u001b[0;36mget_df\u001b[0;34m(site, start, end, cli, agg, interval)\u001b[0m\n\u001b[1;32m     59\u001b[0m \u001b[0;34m\u001b[0m\u001b[0m\n\u001b[1;32m     60\u001b[0m     \u001b[0;31m# Get weather\u001b[0m\u001b[0;34m\u001b[0m\u001b[0;34m\u001b[0m\u001b[0m\n\u001b[0;32m---> 61\u001b[0;31m     \u001b[0mweather\u001b[0m \u001b[0;34m=\u001b[0m \u001b[0mget_weather\u001b[0m\u001b[0;34m(\u001b[0m\u001b[0msite\u001b[0m\u001b[0;34m,\u001b[0m \u001b[0mstart\u001b[0m\u001b[0;34m,\u001b[0m \u001b[0mend\u001b[0m\u001b[0;34m,\u001b[0m \u001b[0magg\u001b[0m\u001b[0;34m=\u001b[0m\u001b[0magg\u001b[0m\u001b[0;34m,\u001b[0m \u001b[0mwindow\u001b[0m\u001b[0;34m=\u001b[0m\u001b[0minterval\u001b[0m\u001b[0;34m,\u001b[0m \u001b[0mcli\u001b[0m\u001b[0;34m=\u001b[0m\u001b[0mcli\u001b[0m\u001b[0;34m)\u001b[0m\u001b[0;34m\u001b[0m\u001b[0m\n\u001b[0m\u001b[1;32m     62\u001b[0m     \u001b[0mweather\u001b[0m\u001b[0;34m.\u001b[0m\u001b[0mindex\u001b[0m \u001b[0;34m=\u001b[0m \u001b[0mweather\u001b[0m\u001b[0;34m.\u001b[0m\u001b[0mindex\u001b[0m\u001b[0;34m.\u001b[0m\u001b[0mtz_localize\u001b[0m\u001b[0;34m(\u001b[0m\u001b[0;34m'UTC'\u001b[0m\u001b[0;34m)\u001b[0m\u001b[0;34m.\u001b[0m\u001b[0mtz_convert\u001b[0m\u001b[0;34m(\u001b[0m\u001b[0;34m'US/Pacific'\u001b[0m\u001b[0;34m)\u001b[0m\u001b[0;34m\u001b[0m\u001b[0m\n\u001b[1;32m     63\u001b[0m     \u001b[0mclosest_station\u001b[0m \u001b[0;34m=\u001b[0m \u001b[0mget_closest_station\u001b[0m\u001b[0;34m(\u001b[0m\u001b[0msite\u001b[0m\u001b[0;34m)\u001b[0m\u001b[0;34m\u001b[0m\u001b[0m\n",
      "\u001b[0;32m~/XBOS/mortar-analytics/dr_evaluation/get_data.py\u001b[0m in \u001b[0;36mget_weather\u001b[0;34m(site, start, end, agg, window, cli)\u001b[0m\n\u001b[1;32m     27\u001b[0m         ]\n\u001b[1;32m     28\u001b[0m     )\n\u001b[0;32m---> 29\u001b[0;31m     \u001b[0mresult\u001b[0m \u001b[0;34m=\u001b[0m \u001b[0mcli\u001b[0m\u001b[0;34m.\u001b[0m\u001b[0mfetch\u001b[0m\u001b[0;34m(\u001b[0m\u001b[0mrequest\u001b[0m\u001b[0;34m)\u001b[0m\u001b[0;34m\u001b[0m\u001b[0m\n\u001b[0m\u001b[1;32m     30\u001b[0m     \u001b[0;32mreturn\u001b[0m \u001b[0mresult\u001b[0m\u001b[0;34m[\u001b[0m\u001b[0;34m'weather'\u001b[0m\u001b[0;34m]\u001b[0m\u001b[0;34m\u001b[0m\u001b[0m\n\u001b[1;32m     31\u001b[0m \u001b[0;34m\u001b[0m\u001b[0m\n",
      "\u001b[0;32m~/anaconda3/envs/mortar/lib/python3.6/site-packages/pymortar/__init__.py\u001b[0m in \u001b[0;36mfetch\u001b[0;34m(self, request)\u001b[0m\n\u001b[1;32m    130\u001b[0m         \u001b[0;31m# TODO: we can get a token expiry error here\u001b[0m\u001b[0;34m\u001b[0m\u001b[0;34m\u001b[0m\u001b[0m\n\u001b[1;32m    131\u001b[0m         \u001b[0;32mtry\u001b[0m\u001b[0;34m:\u001b[0m\u001b[0;34m\u001b[0m\u001b[0m\n\u001b[0;32m--> 132\u001b[0;31m             \u001b[0;32mfor\u001b[0m \u001b[0mx\u001b[0m \u001b[0;32min\u001b[0m \u001b[0mresp\u001b[0m\u001b[0;34m:\u001b[0m\u001b[0;34m\u001b[0m\u001b[0m\n\u001b[0m\u001b[1;32m    133\u001b[0m                 \u001b[0;32mif\u001b[0m \u001b[0mx\u001b[0m\u001b[0;34m.\u001b[0m\u001b[0merror\u001b[0m \u001b[0;34m!=\u001b[0m \u001b[0;34m\"\"\u001b[0m\u001b[0;34m:\u001b[0m\u001b[0;34m\u001b[0m\u001b[0m\n\u001b[1;32m    134\u001b[0m                     \u001b[0mlogging\u001b[0m\u001b[0;34m.\u001b[0m\u001b[0merror\u001b[0m\u001b[0;34m(\u001b[0m\u001b[0mx\u001b[0m\u001b[0;34m.\u001b[0m\u001b[0merror\u001b[0m\u001b[0;34m)\u001b[0m\u001b[0;34m\u001b[0m\u001b[0m\n",
      "\u001b[0;32m~/anaconda3/envs/mortar/lib/python3.6/site-packages/grpc/_channel.py\u001b[0m in \u001b[0;36m__next__\u001b[0;34m(self)\u001b[0m\n\u001b[1;32m    361\u001b[0m \u001b[0;34m\u001b[0m\u001b[0m\n\u001b[1;32m    362\u001b[0m     \u001b[0;32mdef\u001b[0m \u001b[0m__next__\u001b[0m\u001b[0;34m(\u001b[0m\u001b[0mself\u001b[0m\u001b[0;34m)\u001b[0m\u001b[0;34m:\u001b[0m\u001b[0;34m\u001b[0m\u001b[0m\n\u001b[0;32m--> 363\u001b[0;31m         \u001b[0;32mreturn\u001b[0m \u001b[0mself\u001b[0m\u001b[0;34m.\u001b[0m\u001b[0m_next\u001b[0m\u001b[0;34m(\u001b[0m\u001b[0;34m)\u001b[0m\u001b[0;34m\u001b[0m\u001b[0m\n\u001b[0m\u001b[1;32m    364\u001b[0m \u001b[0;34m\u001b[0m\u001b[0m\n\u001b[1;32m    365\u001b[0m     \u001b[0;32mdef\u001b[0m \u001b[0mnext\u001b[0m\u001b[0;34m(\u001b[0m\u001b[0mself\u001b[0m\u001b[0;34m)\u001b[0m\u001b[0;34m:\u001b[0m\u001b[0;34m\u001b[0m\u001b[0m\n",
      "\u001b[0;32m~/anaconda3/envs/mortar/lib/python3.6/site-packages/grpc/_channel.py\u001b[0m in \u001b[0;36m_next\u001b[0;34m(self)\u001b[0m\n\u001b[1;32m    346\u001b[0m                 \u001b[0;32mraise\u001b[0m \u001b[0mself\u001b[0m\u001b[0;34m\u001b[0m\u001b[0m\n\u001b[1;32m    347\u001b[0m             \u001b[0;32mwhile\u001b[0m \u001b[0;32mTrue\u001b[0m\u001b[0;34m:\u001b[0m\u001b[0;34m\u001b[0m\u001b[0m\n\u001b[0;32m--> 348\u001b[0;31m                 \u001b[0mself\u001b[0m\u001b[0;34m.\u001b[0m\u001b[0m_state\u001b[0m\u001b[0;34m.\u001b[0m\u001b[0mcondition\u001b[0m\u001b[0;34m.\u001b[0m\u001b[0mwait\u001b[0m\u001b[0;34m(\u001b[0m\u001b[0;34m)\u001b[0m\u001b[0;34m\u001b[0m\u001b[0m\n\u001b[0m\u001b[1;32m    349\u001b[0m                 \u001b[0;32mif\u001b[0m \u001b[0mself\u001b[0m\u001b[0;34m.\u001b[0m\u001b[0m_state\u001b[0m\u001b[0;34m.\u001b[0m\u001b[0mresponse\u001b[0m \u001b[0;32mis\u001b[0m \u001b[0;32mnot\u001b[0m \u001b[0;32mNone\u001b[0m\u001b[0;34m:\u001b[0m\u001b[0;34m\u001b[0m\u001b[0m\n\u001b[1;32m    350\u001b[0m                     \u001b[0mresponse\u001b[0m \u001b[0;34m=\u001b[0m \u001b[0mself\u001b[0m\u001b[0;34m.\u001b[0m\u001b[0m_state\u001b[0m\u001b[0;34m.\u001b[0m\u001b[0mresponse\u001b[0m\u001b[0;34m\u001b[0m\u001b[0m\n",
      "\u001b[0;32m~/anaconda3/envs/mortar/lib/python3.6/threading.py\u001b[0m in \u001b[0;36mwait\u001b[0;34m(self, timeout)\u001b[0m\n\u001b[1;32m    293\u001b[0m         \u001b[0;32mtry\u001b[0m\u001b[0;34m:\u001b[0m    \u001b[0;31m# restore state no matter what (e.g., KeyboardInterrupt)\u001b[0m\u001b[0;34m\u001b[0m\u001b[0m\n\u001b[1;32m    294\u001b[0m             \u001b[0;32mif\u001b[0m \u001b[0mtimeout\u001b[0m \u001b[0;32mis\u001b[0m \u001b[0;32mNone\u001b[0m\u001b[0;34m:\u001b[0m\u001b[0;34m\u001b[0m\u001b[0m\n\u001b[0;32m--> 295\u001b[0;31m                 \u001b[0mwaiter\u001b[0m\u001b[0;34m.\u001b[0m\u001b[0macquire\u001b[0m\u001b[0;34m(\u001b[0m\u001b[0;34m)\u001b[0m\u001b[0;34m\u001b[0m\u001b[0m\n\u001b[0m\u001b[1;32m    296\u001b[0m                 \u001b[0mgotit\u001b[0m \u001b[0;34m=\u001b[0m \u001b[0;32mTrue\u001b[0m\u001b[0;34m\u001b[0m\u001b[0m\n\u001b[1;32m    297\u001b[0m             \u001b[0;32melse\u001b[0m\u001b[0;34m:\u001b[0m\u001b[0;34m\u001b[0m\u001b[0m\n",
      "\u001b[0;31mKeyboardInterrupt\u001b[0m: "
     ]
    }
   ],
   "source": [
    "start, end = get_window_of_day('2018-07-20')\n",
    "result  = gd.get_df(site, start, end, agg='MEAN', interval='15min', cli=cli)\n",
    "weather = result['weather']\n",
    "len(weather.unique()) < 0.2*len(result)"
   ]
  },
  {
   "cell_type": "code",
   "execution_count": 19,
   "metadata": {},
   "outputs": [],
   "source": [
    "def isValidTestDay(date):\n",
    "    start, end = get_window_of_day(date)\n",
    "    data  = gd.get_df(site, start, end, agg='MEAN', interval='15min', cli=cli)\n",
    "    for column in data.columns:\n",
    "        col = data[column]\n",
    "        if col.isna().sum() > 0.5*len(result):\n",
    "            return False\n",
    "        if (col == 0).sum() > 0.5*len(result):\n",
    "            return False\n",
    "        if len(col.unique()) < 3:\n",
    "            return False\n",
    "    return True"
   ]
  },
  {
   "cell_type": "code",
   "execution_count": 23,
   "metadata": {},
   "outputs": [
    {
     "data": {
      "text/plain": [
       "False"
      ]
     },
     "execution_count": 23,
     "metadata": {},
     "output_type": "execute_result"
    }
   ],
   "source": [
    "isValidTestDay('2018-07-20')"
   ]
  },
  {
   "cell_type": "code",
   "execution_count": 16,
   "metadata": {},
   "outputs": [
    {
     "ename": "SyntaxError",
     "evalue": "'return' outside function (<ipython-input-16-df5ef60ba046>, line 4)",
     "output_type": "error",
     "traceback": [
      "\u001b[0;36m  File \u001b[0;32m\"<ipython-input-16-df5ef60ba046>\"\u001b[0;36m, line \u001b[0;32m4\u001b[0m\n\u001b[0;31m    return False\u001b[0m\n\u001b[0m    ^\u001b[0m\n\u001b[0;31mSyntaxError\u001b[0m\u001b[0;31m:\u001b[0m 'return' outside function\n"
     ]
    }
   ],
   "source": [
    "for column in result.columns:\n",
    "    col = result[column]\n",
    "    if col.isna().sum() > 0.5*len(result):\n",
    "        return False\n",
    "    if (col == 0).sum() > 0.5*len(result):\n",
    "        return False\n",
    "    if len(col.unique()) < 3:\n",
    "        return False"
   ]
  },
  {
   "cell_type": "code",
   "execution_count": 4,
   "metadata": {},
   "outputs": [
    {
     "data": {
      "text/plain": [
       "Timestamp('2018-07-12 00:00:00-0700', tz='US/Pacific')"
      ]
     },
     "execution_count": 4,
     "metadata": {},
     "output_type": "execute_result"
    }
   ],
   "source": [
    "date = pd.to_datetime('2018-07-12').tz_localize('US/Pacific')\n",
    "date"
   ]
  },
  {
   "cell_type": "code",
   "execution_count": 93,
   "metadata": {},
   "outputs": [
    {
     "data": {
      "text/plain": [
       "Timestamp('2018-07-12 00:00:00-0700', tz='US/Pacific')"
      ]
     },
     "execution_count": 93,
     "metadata": {},
     "output_type": "execute_result"
    }
   ],
   "source": [
    "pd.to_datetime(start).tz_localize('US/Pacific')"
   ]
  },
  {
   "cell_type": "code",
   "execution_count": 86,
   "metadata": {},
   "outputs": [],
   "source": [
    "start = '2018-7-12'"
   ]
  },
  {
   "cell_type": "code",
   "execution_count": 87,
   "metadata": {},
   "outputs": [],
   "source": [
    "date = pd.to_datetime(start)"
   ]
  },
  {
   "cell_type": "code",
   "execution_count": 89,
   "metadata": {},
   "outputs": [
    {
     "data": {
      "text/plain": [
       "Timestamp('2018-07-12 00:00:00-0800', tz='US/Alaska', freq='D')"
      ]
     },
     "execution_count": 89,
     "metadata": {},
     "output_type": "execute_result"
    }
   ],
   "source": [
    "date = pd.date_range(start=date, periods=2, freq='1d', tz='US/Alaska')[0]\n",
    "date"
   ]
  },
  {
   "cell_type": "code",
   "execution_count": 80,
   "metadata": {},
   "outputs": [],
   "source": [
    "offset = date.dst()"
   ]
  },
  {
   "cell_type": "code",
   "execution_count": 83,
   "metadata": {},
   "outputs": [
    {
     "data": {
      "text/plain": [
       "True"
      ]
     },
     "execution_count": 83,
     "metadata": {},
     "output_type": "execute_result"
    }
   ],
   "source": [
    "offset.seconds == 3600"
   ]
  },
  {
   "cell_type": "code",
   "execution_count": null,
   "metadata": {},
   "outputs": [],
   "source": []
  }
 ],
 "metadata": {
  "kernelspec": {
   "display_name": "Python [conda env:mortar]",
   "language": "python",
   "name": "conda-env-mortar-py"
  },
  "language_info": {
   "codemirror_mode": {
    "name": "ipython",
    "version": 3
   },
   "file_extension": ".py",
   "mimetype": "text/x-python",
   "name": "python",
   "nbconvert_exporter": "python",
   "pygments_lexer": "ipython3",
   "version": "3.6.6"
  }
 },
 "nbformat": 4,
 "nbformat_minor": 2
}
